{
 "cells": [
  {
   "cell_type": "code",
   "execution_count": 1,
   "id": "c6f57341",
   "metadata": {
    "_cell_guid": "b1076dfc-b9ad-4769-8c92-a6c4dae69d19",
    "_uuid": "8f2839f25d086af736a60e9eeb907d3b93b6e0e5",
    "execution": {
     "iopub.execute_input": "2024-01-19T12:16:45.417746Z",
     "iopub.status.busy": "2024-01-19T12:16:45.417192Z",
     "iopub.status.idle": "2024-01-19T12:16:45.437517Z",
     "shell.execute_reply": "2024-01-19T12:16:45.436760Z"
    },
    "papermill": {
     "duration": 0.033005,
     "end_time": "2024-01-19T12:16:45.439182",
     "exception": false,
     "start_time": "2024-01-19T12:16:45.406177",
     "status": "completed"
    },
    "tags": []
   },
   "outputs": [
    {
     "name": "stdout",
     "output_type": "stream",
     "text": [
      "/kaggle/input/diabetes/description.pdf\n",
      "/kaggle/input/diabetes/diabetic_data.csv\n"
     ]
    }
   ],
   "source": [
    "# This Python 3 environment comes with many helpful analytics libraries installed\n",
    "# It is defined by the kaggle/python Docker image: https://github.com/kaggle/docker-python\n",
    "# For example, here's several helpful packages to load\n",
    "\n",
    "# data processing, CSV file I/O (e.g. pd.read_csv)\n",
    "\n",
    "# Input data files are available in the read-only \"../input/\" directory\n",
    "# For example, running this (by clicking run or pressing Shift+Enter) will list all files under the input directory\n",
    "\n",
    "import os\n",
    "for dirname, _, filenames in os.walk('/kaggle/input'):\n",
    "    for filename in filenames:\n",
    "        print(os.path.join(dirname, filename))\n",
    "\n",
    "# You can write up to 20GB to the current directory (/kaggle/working/) that gets preserved as output when you create a version using \"Save & Run All\" \n",
    "# You can also write temporary files to /kaggle/temp/, but they won't be saved outside of the current session"
   ]
  },
  {
   "cell_type": "markdown",
   "id": "eb4b1ca9",
   "metadata": {
    "papermill": {
     "duration": 0.009338,
     "end_time": "2024-01-19T12:16:45.458243",
     "exception": false,
     "start_time": "2024-01-19T12:16:45.448905",
     "status": "completed"
    },
    "tags": []
   },
   "source": [
    "# Imposting Necessary Libraries"
   ]
  },
  {
   "cell_type": "code",
   "execution_count": 2,
   "id": "e2cada17",
   "metadata": {
    "execution": {
     "iopub.execute_input": "2024-01-19T12:16:45.478408Z",
     "iopub.status.busy": "2024-01-19T12:16:45.478135Z",
     "iopub.status.idle": "2024-01-19T12:16:48.086627Z",
     "shell.execute_reply": "2024-01-19T12:16:48.086035Z"
    },
    "papermill": {
     "duration": 2.620834,
     "end_time": "2024-01-19T12:16:48.088424",
     "exception": false,
     "start_time": "2024-01-19T12:16:45.467590",
     "status": "completed"
    },
    "tags": []
   },
   "outputs": [
    {
     "data": {
      "text/html": [
       "        <script type=\"text/javascript\">\n",
       "        window.PlotlyConfig = {MathJaxConfig: 'local'};\n",
       "        if (window.MathJax && window.MathJax.Hub && window.MathJax.Hub.Config) {window.MathJax.Hub.Config({SVG: {font: \"STIX-Web\"}});}\n",
       "        if (typeof require !== 'undefined') {\n",
       "        require.undef(\"plotly\");\n",
       "        requirejs.config({\n",
       "            paths: {\n",
       "                'plotly': ['https://cdn.plot.ly/plotly-2.25.2.min']\n",
       "            }\n",
       "        });\n",
       "        require(['plotly'], function(Plotly) {\n",
       "            window._Plotly = Plotly;\n",
       "        });\n",
       "        }\n",
       "        </script>\n",
       "        "
      ]
     },
     "metadata": {},
     "output_type": "display_data"
    }
   ],
   "source": [
    "import warnings\n",
    "warnings.filterwarnings('ignore')\n",
    "import numpy as np # linear algebra\n",
    "import pandas as pd\n",
    "pd.set_option('display.max_columns',None)\n",
    "\n",
    "import matplotlib.pyplot as plt\n",
    "%matplotlib inline\n",
    "import seaborn as sns\n",
    "import plotly.express as px\n",
    "import plotly.io as pio\n",
    "pio.renderers.default='kaggle'\n",
    "from plotly import tools\n",
    "from plotly.subplots import make_subplots\n",
    "import plotly.figure_factory as ff\n",
    "import plotly.graph_objs as go\n",
    "from plotly.offline import download_plotlyjs, init_notebook_mode, plot, iplot\n",
    "init_notebook_mode(connected=True)\n",
    "from IPython.display import display"
   ]
  },
  {
   "cell_type": "markdown",
   "id": "04f40944",
   "metadata": {
    "papermill": {
     "duration": 0.009427,
     "end_time": "2024-01-19T12:16:48.107794",
     "exception": false,
     "start_time": "2024-01-19T12:16:48.098367",
     "status": "completed"
    },
    "tags": []
   },
   "source": [
    "# Attributes Description :\n",
    "\n",
    "\n",
    "**VARIABLE NAMES**: DESCRIPTION\n",
    "\n",
    "* **Encounter ID**\tUnique identifier of an encounter\n",
    "* **Patient number**\tUnique identifier of a patient\n",
    "* **Race**\tValues: Caucasian, Asian, African American, Hispanic, and other\n",
    "* **Gender**\tValues: male, female, and unknown/invalid\n",
    "* **Age**\tGrouped in 10-year intervals: 0, 10), 10, 20), …, 90, 100)\n",
    "* **Weight**\tWeight in pounds\n",
    "* **Admission type**\tInteger identifier corresponding to 9 distinct values, for example, emergency, urgent, elective, newborn, and not available\n",
    "* **Discharge disposition**\tInteger identifier corresponding to 29 distinct values, for example, discharged to home, expired, and not available\n",
    "* **Admission source**\tInteger identifier corresponding to 21 distinct values, for example, physician referral, emergency room, and transfer from a hospital\n",
    "* **Time in hospital**\tInteger number of days between admission and discharge\n",
    "* **Payer code**\tInteger identifier corresponding to 23 distinct values, for example, Blue Cross/Blue Shield, Medicare, and self-pay Medical\n",
    "* **Medical specialty**\tInteger identifier of a specialty of the admitting physician, corresponding to 84 distinct values, for example, cardiology, internal medicine, family/general practice, and surgeon\n",
    "* **Number of lab procedures**\tNumber of lab tests performed during the encounter\n",
    "* **Number of procedures** Numeric\tNumber of procedures (other than lab tests) performed during the encounter\n",
    "* **Number of medications**\tNumber of distinct generic names administered during the encounter\n",
    "* **Number of outpatient visits** Number of outpatient visits of the patient in the year preceding the encounter\n",
    "* **Number of emergency visits**\tNumber of emergency visits of the patient in the year preceding the encounter\n",
    "* **Number of inpatient visits**\tNumber of inpatient visits of the patient in the year preceding the encounter\n",
    "* **Diagnosis 1**\tThe primary diagnosis (coded as first three digits of ICD9); 848 distinct values\n",
    "* **Diagnosis 2**\tSecondary diagnosis (coded as first three digits of ICD9); 923 distinct values\n",
    "* **Diagnosis 3** Additional secondary diagnosis (coded as first three digits of ICD9); 954 distinct values\n",
    "* **Number of diagnoses**\tNumber of diagnoses entered to the system 0%\n",
    "* **Glucose serum test result**\tIndicates the range of the result or if the test was not taken. Values: “>200,” “>300,” “normal,” and “none” if not measured\n",
    "* **A1c test result**\tIndicates the range of the result or if the test was not taken. Values: “>8” if the result was greater than 8%, “>7” if the result was greater than 7% but less than 8%, “normal” if the result was less than 7%, and “none” if not measured.\n",
    "* **Change of medications**\tIndicates if there was a change in diabetic medications (either dosage or generic name). Values: “change” and “no change”\n",
    "* **Diabetes medications**\tIndicates if there was any diabetic medication prescribed. Values: “yes” and “no”\n",
    "* 24 features for medications\tFor the generic names: **metformin, repaglinide, nateglinide, chlorpropamide, glimepiride, acetohexamide, glipizide, glyburide, tolbutamide, pioglitazone, rosiglitazone, acarbose, miglitol, troglitazone, tolazamide, examide, sitagliptin, insulin, glyburide-metformin, glipizide-metformin, glimepiride- pioglitazone, metformin-rosiglitazone, and metformin- pioglitazone**, the feature indicates whether the drug was prescribed or there was a change in the dosage. Values: “up” if the dosage was increased during the encounter, “down” if the dosage was decreased, “steady” if the dosage did not change, and “no” if the drug was not prescribed\n",
    "* **Readmitted**\tDays to inpatient readmission. Values: “<30” if the patient was readmitted in less than 30 days, “>30” if the patient was readmitted in more than 30 days, and “No” for no record of readmission\n",
    "\n",
    "\n",
    "\n",
    "\n",
    "\n",
    "\n",
    "\n",
    "\n"
   ]
  },
  {
   "cell_type": "code",
   "execution_count": 3,
   "id": "33b583f4",
   "metadata": {
    "execution": {
     "iopub.execute_input": "2024-01-19T12:16:48.129026Z",
     "iopub.status.busy": "2024-01-19T12:16:48.128391Z",
     "iopub.status.idle": "2024-01-19T12:16:48.931706Z",
     "shell.execute_reply": "2024-01-19T12:16:48.930958Z"
    },
    "papermill": {
     "duration": 0.816328,
     "end_time": "2024-01-19T12:16:48.933577",
     "exception": false,
     "start_time": "2024-01-19T12:16:48.117249",
     "status": "completed"
    },
    "tags": []
   },
   "outputs": [],
   "source": [
    "# reading the dataset\n",
    "df=pd.read_csv('/kaggle/input/diabetes/diabetic_data.csv')"
   ]
  },
  {
   "cell_type": "code",
   "execution_count": 4,
   "id": "463cf52a",
   "metadata": {
    "execution": {
     "iopub.execute_input": "2024-01-19T12:16:48.954182Z",
     "iopub.status.busy": "2024-01-19T12:16:48.953943Z",
     "iopub.status.idle": "2024-01-19T12:16:48.961530Z",
     "shell.execute_reply": "2024-01-19T12:16:48.960844Z"
    },
    "papermill": {
     "duration": 0.019644,
     "end_time": "2024-01-19T12:16:48.963233",
     "exception": false,
     "start_time": "2024-01-19T12:16:48.943589",
     "status": "completed"
    },
    "tags": []
   },
   "outputs": [],
   "source": [
    "def SevenSigma(df):\n",
    "    \"\"\"\n",
    "    Print basic information and statistics of the dataset for better understanding.\n",
    "\n",
    "    Parameters:\n",
    "    - df (pd.DataFrame): The input dataset.\n",
    "\n",
    "    Returns:\n",
    "    None\n",
    "    \"\"\"\n",
    "    # Display the shape of the dataset\n",
    "    print(f\"Shape of the dataset: {df.shape}\")\n",
    "    print(\"\\n\")\n",
    "\n",
    "    # Display a sample of the dataset\n",
    "    print(\"Sample from Dataset:\")\n",
    "    display(df.sample(5).style.background_gradient(cmap='Blues'))\n",
    "    print(\"\\n\")\n",
    "\n",
    "    # Display general information about the dataset\n",
    "    print(\"Information of Dataset:\")\n",
    "    display(df.info())\n",
    "    print(\"\\n\")\n",
    "\n",
    "    # Display descriptive statistics for numeric features\n",
    "    print(\"Description of Dataset for Numeric Features:\")\n",
    "    display(df.describe().T.style.background_gradient(cmap='Blues'))\n",
    "    print(\"\\n\")\n",
    "\n",
    "    # Display descriptive statistics for categorical features\n",
    "    print(\"Description of Dataset for Categorical Features:\")\n",
    "    display(df.describe(exclude=np.number).T.style.background_gradient(cmap='Blues'))\n",
    "    print(\"\\n\")\n",
    "\n",
    "    # Display correlation heatmap for numeric features\n",
    "    print(\"Correlation Heatmap:\")\n",
    "    sns.heatmap(df.corr(numeric_only=True), annot=True, cmap='RdYlGn', linewidths=0.2)\n",
    "    fig = plt.gcf()\n",
    "    fig.set_size_inches(10, 10)\n",
    "    plt.show()\n",
    "    print(\"\\n\")\n",
    "\n",
    "    # Display percentage of null values in the dataset\n",
    "    print(\"Null Values in Dataset:\")\n",
    "    display(df.isnull().mean() * 100)\n",
    "    print(\"\\n\")\n",
    "\n",
    "    # Display duplicate rows in the dataset\n",
    "    print(\"Duplicate Rows in Dataset:\")\n",
    "    display(df[df.duplicated()].style.background_gradient(cmap='Blues'))"
   ]
  },
  {
   "cell_type": "code",
   "execution_count": 5,
   "id": "8ffa9885",
   "metadata": {
    "execution": {
     "iopub.execute_input": "2024-01-19T12:16:48.984131Z",
     "iopub.status.busy": "2024-01-19T12:16:48.983817Z",
     "iopub.status.idle": "2024-01-19T12:16:50.585681Z",
     "shell.execute_reply": "2024-01-19T12:16:50.585089Z"
    },
    "papermill": {
     "duration": 1.613959,
     "end_time": "2024-01-19T12:16:50.587161",
     "exception": false,
     "start_time": "2024-01-19T12:16:48.973202",
     "status": "completed"
    },
    "tags": []
   },
   "outputs": [
    {
     "name": "stdout",
     "output_type": "stream",
     "text": [
      "Shape of the dataset: (101766, 50)\n",
      "\n",
      "\n",
      "Sample from Dataset:\n"
     ]
    },
    {
     "data": {
      "text/html": [
       "<style type=\"text/css\">\n",
       "#T_9ceb7_row0_col0 {\n",
       "  background-color: #d5e5f4;\n",
       "  color: #000000;\n",
       "}\n",
       "#T_9ceb7_row0_col1 {\n",
       "  background-color: #ccdff1;\n",
       "  color: #000000;\n",
       "}\n",
       "#T_9ceb7_row0_col6, #T_9ceb7_row0_col7, #T_9ceb7_row0_col12, #T_9ceb7_row0_col14, #T_9ceb7_row0_col15, #T_9ceb7_row0_col16, #T_9ceb7_row0_col17, #T_9ceb7_row0_col21, #T_9ceb7_row1_col7, #T_9ceb7_row1_col8, #T_9ceb7_row1_col9, #T_9ceb7_row1_col13, #T_9ceb7_row1_col15, #T_9ceb7_row1_col16, #T_9ceb7_row1_col17, #T_9ceb7_row2_col6, #T_9ceb7_row2_col13, #T_9ceb7_row2_col15, #T_9ceb7_row2_col16, #T_9ceb7_row3_col7, #T_9ceb7_row3_col15, #T_9ceb7_row3_col16, #T_9ceb7_row3_col17, #T_9ceb7_row3_col21, #T_9ceb7_row4_col0, #T_9ceb7_row4_col1, #T_9ceb7_row4_col13, #T_9ceb7_row4_col14, #T_9ceb7_row4_col15, #T_9ceb7_row4_col16, #T_9ceb7_row4_col17 {\n",
       "  background-color: #f7fbff;\n",
       "  color: #000000;\n",
       "}\n",
       "#T_9ceb7_row0_col8, #T_9ceb7_row1_col1, #T_9ceb7_row1_col21, #T_9ceb7_row2_col9, #T_9ceb7_row2_col14, #T_9ceb7_row2_col17, #T_9ceb7_row2_col21, #T_9ceb7_row3_col0, #T_9ceb7_row3_col6, #T_9ceb7_row3_col8, #T_9ceb7_row3_col13, #T_9ceb7_row4_col6, #T_9ceb7_row4_col7, #T_9ceb7_row4_col12, #T_9ceb7_row4_col21 {\n",
       "  background-color: #08306b;\n",
       "  color: #f1f1f1;\n",
       "}\n",
       "#T_9ceb7_row0_col9, #T_9ceb7_row3_col9 {\n",
       "  background-color: #c6dbef;\n",
       "  color: #000000;\n",
       "}\n",
       "#T_9ceb7_row0_col13 {\n",
       "  background-color: #abd0e6;\n",
       "  color: #000000;\n",
       "}\n",
       "#T_9ceb7_row1_col0 {\n",
       "  background-color: #3d8dc4;\n",
       "  color: #f1f1f1;\n",
       "}\n",
       "#T_9ceb7_row1_col6 {\n",
       "  background-color: #d0e1f2;\n",
       "  color: #000000;\n",
       "}\n",
       "#T_9ceb7_row1_col12 {\n",
       "  background-color: #7ab6d9;\n",
       "  color: #000000;\n",
       "}\n",
       "#T_9ceb7_row1_col14, #T_9ceb7_row4_col9 {\n",
       "  background-color: #e7f0fa;\n",
       "  color: #000000;\n",
       "}\n",
       "#T_9ceb7_row2_col0 {\n",
       "  background-color: #1c6bb0;\n",
       "  color: #f1f1f1;\n",
       "}\n",
       "#T_9ceb7_row2_col1 {\n",
       "  background-color: #3181bd;\n",
       "  color: #f1f1f1;\n",
       "}\n",
       "#T_9ceb7_row2_col7 {\n",
       "  background-color: #cee0f2;\n",
       "  color: #000000;\n",
       "}\n",
       "#T_9ceb7_row2_col8, #T_9ceb7_row4_col8 {\n",
       "  background-color: #9dcae1;\n",
       "  color: #000000;\n",
       "}\n",
       "#T_9ceb7_row2_col12 {\n",
       "  background-color: #a6cee4;\n",
       "  color: #000000;\n",
       "}\n",
       "#T_9ceb7_row3_col1 {\n",
       "  background-color: #0e59a2;\n",
       "  color: #f1f1f1;\n",
       "}\n",
       "#T_9ceb7_row3_col12 {\n",
       "  background-color: #66abd4;\n",
       "  color: #f1f1f1;\n",
       "}\n",
       "#T_9ceb7_row3_col14 {\n",
       "  background-color: #4f9bcb;\n",
       "  color: #f1f1f1;\n",
       "}\n",
       "</style>\n",
       "<table id=\"T_9ceb7\">\n",
       "  <thead>\n",
       "    <tr>\n",
       "      <th class=\"blank level0\" >&nbsp;</th>\n",
       "      <th id=\"T_9ceb7_level0_col0\" class=\"col_heading level0 col0\" >encounter_id</th>\n",
       "      <th id=\"T_9ceb7_level0_col1\" class=\"col_heading level0 col1\" >patient_nbr</th>\n",
       "      <th id=\"T_9ceb7_level0_col2\" class=\"col_heading level0 col2\" >race</th>\n",
       "      <th id=\"T_9ceb7_level0_col3\" class=\"col_heading level0 col3\" >gender</th>\n",
       "      <th id=\"T_9ceb7_level0_col4\" class=\"col_heading level0 col4\" >age</th>\n",
       "      <th id=\"T_9ceb7_level0_col5\" class=\"col_heading level0 col5\" >weight</th>\n",
       "      <th id=\"T_9ceb7_level0_col6\" class=\"col_heading level0 col6\" >admission_type_id</th>\n",
       "      <th id=\"T_9ceb7_level0_col7\" class=\"col_heading level0 col7\" >discharge_disposition_id</th>\n",
       "      <th id=\"T_9ceb7_level0_col8\" class=\"col_heading level0 col8\" >admission_source_id</th>\n",
       "      <th id=\"T_9ceb7_level0_col9\" class=\"col_heading level0 col9\" >time_in_hospital</th>\n",
       "      <th id=\"T_9ceb7_level0_col10\" class=\"col_heading level0 col10\" >payer_code</th>\n",
       "      <th id=\"T_9ceb7_level0_col11\" class=\"col_heading level0 col11\" >medical_specialty</th>\n",
       "      <th id=\"T_9ceb7_level0_col12\" class=\"col_heading level0 col12\" >num_lab_procedures</th>\n",
       "      <th id=\"T_9ceb7_level0_col13\" class=\"col_heading level0 col13\" >num_procedures</th>\n",
       "      <th id=\"T_9ceb7_level0_col14\" class=\"col_heading level0 col14\" >num_medications</th>\n",
       "      <th id=\"T_9ceb7_level0_col15\" class=\"col_heading level0 col15\" >number_outpatient</th>\n",
       "      <th id=\"T_9ceb7_level0_col16\" class=\"col_heading level0 col16\" >number_emergency</th>\n",
       "      <th id=\"T_9ceb7_level0_col17\" class=\"col_heading level0 col17\" >number_inpatient</th>\n",
       "      <th id=\"T_9ceb7_level0_col18\" class=\"col_heading level0 col18\" >diag_1</th>\n",
       "      <th id=\"T_9ceb7_level0_col19\" class=\"col_heading level0 col19\" >diag_2</th>\n",
       "      <th id=\"T_9ceb7_level0_col20\" class=\"col_heading level0 col20\" >diag_3</th>\n",
       "      <th id=\"T_9ceb7_level0_col21\" class=\"col_heading level0 col21\" >number_diagnoses</th>\n",
       "      <th id=\"T_9ceb7_level0_col22\" class=\"col_heading level0 col22\" >max_glu_serum</th>\n",
       "      <th id=\"T_9ceb7_level0_col23\" class=\"col_heading level0 col23\" >A1Cresult</th>\n",
       "      <th id=\"T_9ceb7_level0_col24\" class=\"col_heading level0 col24\" >metformin</th>\n",
       "      <th id=\"T_9ceb7_level0_col25\" class=\"col_heading level0 col25\" >repaglinide</th>\n",
       "      <th id=\"T_9ceb7_level0_col26\" class=\"col_heading level0 col26\" >nateglinide</th>\n",
       "      <th id=\"T_9ceb7_level0_col27\" class=\"col_heading level0 col27\" >chlorpropamide</th>\n",
       "      <th id=\"T_9ceb7_level0_col28\" class=\"col_heading level0 col28\" >glimepiride</th>\n",
       "      <th id=\"T_9ceb7_level0_col29\" class=\"col_heading level0 col29\" >acetohexamide</th>\n",
       "      <th id=\"T_9ceb7_level0_col30\" class=\"col_heading level0 col30\" >glipizide</th>\n",
       "      <th id=\"T_9ceb7_level0_col31\" class=\"col_heading level0 col31\" >glyburide</th>\n",
       "      <th id=\"T_9ceb7_level0_col32\" class=\"col_heading level0 col32\" >tolbutamide</th>\n",
       "      <th id=\"T_9ceb7_level0_col33\" class=\"col_heading level0 col33\" >pioglitazone</th>\n",
       "      <th id=\"T_9ceb7_level0_col34\" class=\"col_heading level0 col34\" >rosiglitazone</th>\n",
       "      <th id=\"T_9ceb7_level0_col35\" class=\"col_heading level0 col35\" >acarbose</th>\n",
       "      <th id=\"T_9ceb7_level0_col36\" class=\"col_heading level0 col36\" >miglitol</th>\n",
       "      <th id=\"T_9ceb7_level0_col37\" class=\"col_heading level0 col37\" >troglitazone</th>\n",
       "      <th id=\"T_9ceb7_level0_col38\" class=\"col_heading level0 col38\" >tolazamide</th>\n",
       "      <th id=\"T_9ceb7_level0_col39\" class=\"col_heading level0 col39\" >examide</th>\n",
       "      <th id=\"T_9ceb7_level0_col40\" class=\"col_heading level0 col40\" >citoglipton</th>\n",
       "      <th id=\"T_9ceb7_level0_col41\" class=\"col_heading level0 col41\" >insulin</th>\n",
       "      <th id=\"T_9ceb7_level0_col42\" class=\"col_heading level0 col42\" >glyburide-metformin</th>\n",
       "      <th id=\"T_9ceb7_level0_col43\" class=\"col_heading level0 col43\" >glipizide-metformin</th>\n",
       "      <th id=\"T_9ceb7_level0_col44\" class=\"col_heading level0 col44\" >glimepiride-pioglitazone</th>\n",
       "      <th id=\"T_9ceb7_level0_col45\" class=\"col_heading level0 col45\" >metformin-rosiglitazone</th>\n",
       "      <th id=\"T_9ceb7_level0_col46\" class=\"col_heading level0 col46\" >metformin-pioglitazone</th>\n",
       "      <th id=\"T_9ceb7_level0_col47\" class=\"col_heading level0 col47\" >change</th>\n",
       "      <th id=\"T_9ceb7_level0_col48\" class=\"col_heading level0 col48\" >diabetesMed</th>\n",
       "      <th id=\"T_9ceb7_level0_col49\" class=\"col_heading level0 col49\" >readmitted</th>\n",
       "    </tr>\n",
       "  </thead>\n",
       "  <tbody>\n",
       "    <tr>\n",
       "      <th id=\"T_9ceb7_level0_row0\" class=\"row_heading level0 row0\" >11299</th>\n",
       "      <td id=\"T_9ceb7_row0_col0\" class=\"data row0 col0\" >46846662</td>\n",
       "      <td id=\"T_9ceb7_row0_col1\" class=\"data row0 col1\" >25543143</td>\n",
       "      <td id=\"T_9ceb7_row0_col2\" class=\"data row0 col2\" >Caucasian</td>\n",
       "      <td id=\"T_9ceb7_row0_col3\" class=\"data row0 col3\" >Male</td>\n",
       "      <td id=\"T_9ceb7_row0_col4\" class=\"data row0 col4\" >[70-80)</td>\n",
       "      <td id=\"T_9ceb7_row0_col5\" class=\"data row0 col5\" >?</td>\n",
       "      <td id=\"T_9ceb7_row0_col6\" class=\"data row0 col6\" >1</td>\n",
       "      <td id=\"T_9ceb7_row0_col7\" class=\"data row0 col7\" >1</td>\n",
       "      <td id=\"T_9ceb7_row0_col8\" class=\"data row0 col8\" >17</td>\n",
       "      <td id=\"T_9ceb7_row0_col9\" class=\"data row0 col9\" >5</td>\n",
       "      <td id=\"T_9ceb7_row0_col10\" class=\"data row0 col10\" >?</td>\n",
       "      <td id=\"T_9ceb7_row0_col11\" class=\"data row0 col11\" >Surgery-General</td>\n",
       "      <td id=\"T_9ceb7_row0_col12\" class=\"data row0 col12\" >5</td>\n",
       "      <td id=\"T_9ceb7_row0_col13\" class=\"data row0 col13\" >1</td>\n",
       "      <td id=\"T_9ceb7_row0_col14\" class=\"data row0 col14\" >11</td>\n",
       "      <td id=\"T_9ceb7_row0_col15\" class=\"data row0 col15\" >0</td>\n",
       "      <td id=\"T_9ceb7_row0_col16\" class=\"data row0 col16\" >0</td>\n",
       "      <td id=\"T_9ceb7_row0_col17\" class=\"data row0 col17\" >0</td>\n",
       "      <td id=\"T_9ceb7_row0_col18\" class=\"data row0 col18\" >807</td>\n",
       "      <td id=\"T_9ceb7_row0_col19\" class=\"data row0 col19\" >560</td>\n",
       "      <td id=\"T_9ceb7_row0_col20\" class=\"data row0 col20\" >518</td>\n",
       "      <td id=\"T_9ceb7_row0_col21\" class=\"data row0 col21\" >7</td>\n",
       "      <td id=\"T_9ceb7_row0_col22\" class=\"data row0 col22\" >nan</td>\n",
       "      <td id=\"T_9ceb7_row0_col23\" class=\"data row0 col23\" >nan</td>\n",
       "      <td id=\"T_9ceb7_row0_col24\" class=\"data row0 col24\" >No</td>\n",
       "      <td id=\"T_9ceb7_row0_col25\" class=\"data row0 col25\" >No</td>\n",
       "      <td id=\"T_9ceb7_row0_col26\" class=\"data row0 col26\" >No</td>\n",
       "      <td id=\"T_9ceb7_row0_col27\" class=\"data row0 col27\" >No</td>\n",
       "      <td id=\"T_9ceb7_row0_col28\" class=\"data row0 col28\" >No</td>\n",
       "      <td id=\"T_9ceb7_row0_col29\" class=\"data row0 col29\" >No</td>\n",
       "      <td id=\"T_9ceb7_row0_col30\" class=\"data row0 col30\" >No</td>\n",
       "      <td id=\"T_9ceb7_row0_col31\" class=\"data row0 col31\" >No</td>\n",
       "      <td id=\"T_9ceb7_row0_col32\" class=\"data row0 col32\" >No</td>\n",
       "      <td id=\"T_9ceb7_row0_col33\" class=\"data row0 col33\" >No</td>\n",
       "      <td id=\"T_9ceb7_row0_col34\" class=\"data row0 col34\" >No</td>\n",
       "      <td id=\"T_9ceb7_row0_col35\" class=\"data row0 col35\" >No</td>\n",
       "      <td id=\"T_9ceb7_row0_col36\" class=\"data row0 col36\" >No</td>\n",
       "      <td id=\"T_9ceb7_row0_col37\" class=\"data row0 col37\" >No</td>\n",
       "      <td id=\"T_9ceb7_row0_col38\" class=\"data row0 col38\" >No</td>\n",
       "      <td id=\"T_9ceb7_row0_col39\" class=\"data row0 col39\" >No</td>\n",
       "      <td id=\"T_9ceb7_row0_col40\" class=\"data row0 col40\" >No</td>\n",
       "      <td id=\"T_9ceb7_row0_col41\" class=\"data row0 col41\" >Steady</td>\n",
       "      <td id=\"T_9ceb7_row0_col42\" class=\"data row0 col42\" >No</td>\n",
       "      <td id=\"T_9ceb7_row0_col43\" class=\"data row0 col43\" >No</td>\n",
       "      <td id=\"T_9ceb7_row0_col44\" class=\"data row0 col44\" >No</td>\n",
       "      <td id=\"T_9ceb7_row0_col45\" class=\"data row0 col45\" >No</td>\n",
       "      <td id=\"T_9ceb7_row0_col46\" class=\"data row0 col46\" >No</td>\n",
       "      <td id=\"T_9ceb7_row0_col47\" class=\"data row0 col47\" >No</td>\n",
       "      <td id=\"T_9ceb7_row0_col48\" class=\"data row0 col48\" >Yes</td>\n",
       "      <td id=\"T_9ceb7_row0_col49\" class=\"data row0 col49\" >>30</td>\n",
       "    </tr>\n",
       "    <tr>\n",
       "      <th id=\"T_9ceb7_level0_row1\" class=\"row_heading level0 row1\" >56791</th>\n",
       "      <td id=\"T_9ceb7_row1_col0\" class=\"data row1 col0\" >162772158</td>\n",
       "      <td id=\"T_9ceb7_row1_col1\" class=\"data row1 col1\" >114893811</td>\n",
       "      <td id=\"T_9ceb7_row1_col2\" class=\"data row1 col2\" >AfricanAmerican</td>\n",
       "      <td id=\"T_9ceb7_row1_col3\" class=\"data row1 col3\" >Female</td>\n",
       "      <td id=\"T_9ceb7_row1_col4\" class=\"data row1 col4\" >[50-60)</td>\n",
       "      <td id=\"T_9ceb7_row1_col5\" class=\"data row1 col5\" >?</td>\n",
       "      <td id=\"T_9ceb7_row1_col6\" class=\"data row1 col6\" >2</td>\n",
       "      <td id=\"T_9ceb7_row1_col7\" class=\"data row1 col7\" >1</td>\n",
       "      <td id=\"T_9ceb7_row1_col8\" class=\"data row1 col8\" >1</td>\n",
       "      <td id=\"T_9ceb7_row1_col9\" class=\"data row1 col9\" >2</td>\n",
       "      <td id=\"T_9ceb7_row1_col10\" class=\"data row1 col10\" >?</td>\n",
       "      <td id=\"T_9ceb7_row1_col11\" class=\"data row1 col11\" >Nephrology</td>\n",
       "      <td id=\"T_9ceb7_row1_col12\" class=\"data row1 col12\" >42</td>\n",
       "      <td id=\"T_9ceb7_row1_col13\" class=\"data row1 col13\" >0</td>\n",
       "      <td id=\"T_9ceb7_row1_col14\" class=\"data row1 col14\" >12</td>\n",
       "      <td id=\"T_9ceb7_row1_col15\" class=\"data row1 col15\" >0</td>\n",
       "      <td id=\"T_9ceb7_row1_col16\" class=\"data row1 col16\" >0</td>\n",
       "      <td id=\"T_9ceb7_row1_col17\" class=\"data row1 col17\" >0</td>\n",
       "      <td id=\"T_9ceb7_row1_col18\" class=\"data row1 col18\" >403</td>\n",
       "      <td id=\"T_9ceb7_row1_col19\" class=\"data row1 col19\" >V63</td>\n",
       "      <td id=\"T_9ceb7_row1_col20\" class=\"data row1 col20\" >584</td>\n",
       "      <td id=\"T_9ceb7_row1_col21\" class=\"data row1 col21\" >9</td>\n",
       "      <td id=\"T_9ceb7_row1_col22\" class=\"data row1 col22\" >nan</td>\n",
       "      <td id=\"T_9ceb7_row1_col23\" class=\"data row1 col23\" >nan</td>\n",
       "      <td id=\"T_9ceb7_row1_col24\" class=\"data row1 col24\" >No</td>\n",
       "      <td id=\"T_9ceb7_row1_col25\" class=\"data row1 col25\" >No</td>\n",
       "      <td id=\"T_9ceb7_row1_col26\" class=\"data row1 col26\" >No</td>\n",
       "      <td id=\"T_9ceb7_row1_col27\" class=\"data row1 col27\" >No</td>\n",
       "      <td id=\"T_9ceb7_row1_col28\" class=\"data row1 col28\" >No</td>\n",
       "      <td id=\"T_9ceb7_row1_col29\" class=\"data row1 col29\" >No</td>\n",
       "      <td id=\"T_9ceb7_row1_col30\" class=\"data row1 col30\" >No</td>\n",
       "      <td id=\"T_9ceb7_row1_col31\" class=\"data row1 col31\" >No</td>\n",
       "      <td id=\"T_9ceb7_row1_col32\" class=\"data row1 col32\" >No</td>\n",
       "      <td id=\"T_9ceb7_row1_col33\" class=\"data row1 col33\" >No</td>\n",
       "      <td id=\"T_9ceb7_row1_col34\" class=\"data row1 col34\" >No</td>\n",
       "      <td id=\"T_9ceb7_row1_col35\" class=\"data row1 col35\" >No</td>\n",
       "      <td id=\"T_9ceb7_row1_col36\" class=\"data row1 col36\" >No</td>\n",
       "      <td id=\"T_9ceb7_row1_col37\" class=\"data row1 col37\" >No</td>\n",
       "      <td id=\"T_9ceb7_row1_col38\" class=\"data row1 col38\" >No</td>\n",
       "      <td id=\"T_9ceb7_row1_col39\" class=\"data row1 col39\" >No</td>\n",
       "      <td id=\"T_9ceb7_row1_col40\" class=\"data row1 col40\" >No</td>\n",
       "      <td id=\"T_9ceb7_row1_col41\" class=\"data row1 col41\" >Steady</td>\n",
       "      <td id=\"T_9ceb7_row1_col42\" class=\"data row1 col42\" >No</td>\n",
       "      <td id=\"T_9ceb7_row1_col43\" class=\"data row1 col43\" >No</td>\n",
       "      <td id=\"T_9ceb7_row1_col44\" class=\"data row1 col44\" >No</td>\n",
       "      <td id=\"T_9ceb7_row1_col45\" class=\"data row1 col45\" >No</td>\n",
       "      <td id=\"T_9ceb7_row1_col46\" class=\"data row1 col46\" >No</td>\n",
       "      <td id=\"T_9ceb7_row1_col47\" class=\"data row1 col47\" >No</td>\n",
       "      <td id=\"T_9ceb7_row1_col48\" class=\"data row1 col48\" >Yes</td>\n",
       "      <td id=\"T_9ceb7_row1_col49\" class=\"data row1 col49\" >>30</td>\n",
       "    </tr>\n",
       "    <tr>\n",
       "      <th id=\"T_9ceb7_level0_row2\" class=\"row_heading level0 row2\" >68796</th>\n",
       "      <td id=\"T_9ceb7_row2_col0\" class=\"data row2 col0\" >194632710</td>\n",
       "      <td id=\"T_9ceb7_row2_col1\" class=\"data row2 col1\" >79397082</td>\n",
       "      <td id=\"T_9ceb7_row2_col2\" class=\"data row2 col2\" >Caucasian</td>\n",
       "      <td id=\"T_9ceb7_row2_col3\" class=\"data row2 col3\" >Female</td>\n",
       "      <td id=\"T_9ceb7_row2_col4\" class=\"data row2 col4\" >[70-80)</td>\n",
       "      <td id=\"T_9ceb7_row2_col5\" class=\"data row2 col5\" >?</td>\n",
       "      <td id=\"T_9ceb7_row2_col6\" class=\"data row2 col6\" >1</td>\n",
       "      <td id=\"T_9ceb7_row2_col7\" class=\"data row2 col7\" >6</td>\n",
       "      <td id=\"T_9ceb7_row2_col8\" class=\"data row2 col8\" >7</td>\n",
       "      <td id=\"T_9ceb7_row2_col9\" class=\"data row2 col9\" >14</td>\n",
       "      <td id=\"T_9ceb7_row2_col10\" class=\"data row2 col10\" >MC</td>\n",
       "      <td id=\"T_9ceb7_row2_col11\" class=\"data row2 col11\" >Osteopath</td>\n",
       "      <td id=\"T_9ceb7_row2_col12\" class=\"data row2 col12\" >33</td>\n",
       "      <td id=\"T_9ceb7_row2_col13\" class=\"data row2 col13\" >0</td>\n",
       "      <td id=\"T_9ceb7_row2_col14\" class=\"data row2 col14\" >23</td>\n",
       "      <td id=\"T_9ceb7_row2_col15\" class=\"data row2 col15\" >0</td>\n",
       "      <td id=\"T_9ceb7_row2_col16\" class=\"data row2 col16\" >0</td>\n",
       "      <td id=\"T_9ceb7_row2_col17\" class=\"data row2 col17\" >1</td>\n",
       "      <td id=\"T_9ceb7_row2_col18\" class=\"data row2 col18\" >485</td>\n",
       "      <td id=\"T_9ceb7_row2_col19\" class=\"data row2 col19\" >491</td>\n",
       "      <td id=\"T_9ceb7_row2_col20\" class=\"data row2 col20\" >250.02</td>\n",
       "      <td id=\"T_9ceb7_row2_col21\" class=\"data row2 col21\" >9</td>\n",
       "      <td id=\"T_9ceb7_row2_col22\" class=\"data row2 col22\" >nan</td>\n",
       "      <td id=\"T_9ceb7_row2_col23\" class=\"data row2 col23\" >nan</td>\n",
       "      <td id=\"T_9ceb7_row2_col24\" class=\"data row2 col24\" >No</td>\n",
       "      <td id=\"T_9ceb7_row2_col25\" class=\"data row2 col25\" >No</td>\n",
       "      <td id=\"T_9ceb7_row2_col26\" class=\"data row2 col26\" >No</td>\n",
       "      <td id=\"T_9ceb7_row2_col27\" class=\"data row2 col27\" >No</td>\n",
       "      <td id=\"T_9ceb7_row2_col28\" class=\"data row2 col28\" >No</td>\n",
       "      <td id=\"T_9ceb7_row2_col29\" class=\"data row2 col29\" >No</td>\n",
       "      <td id=\"T_9ceb7_row2_col30\" class=\"data row2 col30\" >No</td>\n",
       "      <td id=\"T_9ceb7_row2_col31\" class=\"data row2 col31\" >Steady</td>\n",
       "      <td id=\"T_9ceb7_row2_col32\" class=\"data row2 col32\" >No</td>\n",
       "      <td id=\"T_9ceb7_row2_col33\" class=\"data row2 col33\" >No</td>\n",
       "      <td id=\"T_9ceb7_row2_col34\" class=\"data row2 col34\" >No</td>\n",
       "      <td id=\"T_9ceb7_row2_col35\" class=\"data row2 col35\" >No</td>\n",
       "      <td id=\"T_9ceb7_row2_col36\" class=\"data row2 col36\" >No</td>\n",
       "      <td id=\"T_9ceb7_row2_col37\" class=\"data row2 col37\" >No</td>\n",
       "      <td id=\"T_9ceb7_row2_col38\" class=\"data row2 col38\" >No</td>\n",
       "      <td id=\"T_9ceb7_row2_col39\" class=\"data row2 col39\" >No</td>\n",
       "      <td id=\"T_9ceb7_row2_col40\" class=\"data row2 col40\" >No</td>\n",
       "      <td id=\"T_9ceb7_row2_col41\" class=\"data row2 col41\" >Steady</td>\n",
       "      <td id=\"T_9ceb7_row2_col42\" class=\"data row2 col42\" >No</td>\n",
       "      <td id=\"T_9ceb7_row2_col43\" class=\"data row2 col43\" >No</td>\n",
       "      <td id=\"T_9ceb7_row2_col44\" class=\"data row2 col44\" >No</td>\n",
       "      <td id=\"T_9ceb7_row2_col45\" class=\"data row2 col45\" >No</td>\n",
       "      <td id=\"T_9ceb7_row2_col46\" class=\"data row2 col46\" >No</td>\n",
       "      <td id=\"T_9ceb7_row2_col47\" class=\"data row2 col47\" >Ch</td>\n",
       "      <td id=\"T_9ceb7_row2_col48\" class=\"data row2 col48\" >Yes</td>\n",
       "      <td id=\"T_9ceb7_row2_col49\" class=\"data row2 col49\" >>30</td>\n",
       "    </tr>\n",
       "    <tr>\n",
       "      <th id=\"T_9ceb7_level0_row3\" class=\"row_heading level0 row3\" >81119</th>\n",
       "      <td id=\"T_9ceb7_row3_col0\" class=\"data row3 col0\" >250956186</td>\n",
       "      <td id=\"T_9ceb7_row3_col1\" class=\"data row3 col1\" >96721506</td>\n",
       "      <td id=\"T_9ceb7_row3_col2\" class=\"data row3 col2\" >Caucasian</td>\n",
       "      <td id=\"T_9ceb7_row3_col3\" class=\"data row3 col3\" >Female</td>\n",
       "      <td id=\"T_9ceb7_row3_col4\" class=\"data row3 col4\" >[70-80)</td>\n",
       "      <td id=\"T_9ceb7_row3_col5\" class=\"data row3 col5\" >?</td>\n",
       "      <td id=\"T_9ceb7_row3_col6\" class=\"data row3 col6\" >6</td>\n",
       "      <td id=\"T_9ceb7_row3_col7\" class=\"data row3 col7\" >1</td>\n",
       "      <td id=\"T_9ceb7_row3_col8\" class=\"data row3 col8\" >17</td>\n",
       "      <td id=\"T_9ceb7_row3_col9\" class=\"data row3 col9\" >5</td>\n",
       "      <td id=\"T_9ceb7_row3_col10\" class=\"data row3 col10\" >?</td>\n",
       "      <td id=\"T_9ceb7_row3_col11\" class=\"data row3 col11\" >Cardiology</td>\n",
       "      <td id=\"T_9ceb7_row3_col12\" class=\"data row3 col12\" >46</td>\n",
       "      <td id=\"T_9ceb7_row3_col13\" class=\"data row3 col13\" >3</td>\n",
       "      <td id=\"T_9ceb7_row3_col14\" class=\"data row3 col14\" >18</td>\n",
       "      <td id=\"T_9ceb7_row3_col15\" class=\"data row3 col15\" >0</td>\n",
       "      <td id=\"T_9ceb7_row3_col16\" class=\"data row3 col16\" >0</td>\n",
       "      <td id=\"T_9ceb7_row3_col17\" class=\"data row3 col17\" >0</td>\n",
       "      <td id=\"T_9ceb7_row3_col18\" class=\"data row3 col18\" >414</td>\n",
       "      <td id=\"T_9ceb7_row3_col19\" class=\"data row3 col19\" >411</td>\n",
       "      <td id=\"T_9ceb7_row3_col20\" class=\"data row3 col20\" >250</td>\n",
       "      <td id=\"T_9ceb7_row3_col21\" class=\"data row3 col21\" >7</td>\n",
       "      <td id=\"T_9ceb7_row3_col22\" class=\"data row3 col22\" >nan</td>\n",
       "      <td id=\"T_9ceb7_row3_col23\" class=\"data row3 col23\" >nan</td>\n",
       "      <td id=\"T_9ceb7_row3_col24\" class=\"data row3 col24\" >No</td>\n",
       "      <td id=\"T_9ceb7_row3_col25\" class=\"data row3 col25\" >No</td>\n",
       "      <td id=\"T_9ceb7_row3_col26\" class=\"data row3 col26\" >Up</td>\n",
       "      <td id=\"T_9ceb7_row3_col27\" class=\"data row3 col27\" >No</td>\n",
       "      <td id=\"T_9ceb7_row3_col28\" class=\"data row3 col28\" >No</td>\n",
       "      <td id=\"T_9ceb7_row3_col29\" class=\"data row3 col29\" >No</td>\n",
       "      <td id=\"T_9ceb7_row3_col30\" class=\"data row3 col30\" >No</td>\n",
       "      <td id=\"T_9ceb7_row3_col31\" class=\"data row3 col31\" >No</td>\n",
       "      <td id=\"T_9ceb7_row3_col32\" class=\"data row3 col32\" >No</td>\n",
       "      <td id=\"T_9ceb7_row3_col33\" class=\"data row3 col33\" >No</td>\n",
       "      <td id=\"T_9ceb7_row3_col34\" class=\"data row3 col34\" >No</td>\n",
       "      <td id=\"T_9ceb7_row3_col35\" class=\"data row3 col35\" >No</td>\n",
       "      <td id=\"T_9ceb7_row3_col36\" class=\"data row3 col36\" >No</td>\n",
       "      <td id=\"T_9ceb7_row3_col37\" class=\"data row3 col37\" >No</td>\n",
       "      <td id=\"T_9ceb7_row3_col38\" class=\"data row3 col38\" >No</td>\n",
       "      <td id=\"T_9ceb7_row3_col39\" class=\"data row3 col39\" >No</td>\n",
       "      <td id=\"T_9ceb7_row3_col40\" class=\"data row3 col40\" >No</td>\n",
       "      <td id=\"T_9ceb7_row3_col41\" class=\"data row3 col41\" >Steady</td>\n",
       "      <td id=\"T_9ceb7_row3_col42\" class=\"data row3 col42\" >No</td>\n",
       "      <td id=\"T_9ceb7_row3_col43\" class=\"data row3 col43\" >No</td>\n",
       "      <td id=\"T_9ceb7_row3_col44\" class=\"data row3 col44\" >No</td>\n",
       "      <td id=\"T_9ceb7_row3_col45\" class=\"data row3 col45\" >No</td>\n",
       "      <td id=\"T_9ceb7_row3_col46\" class=\"data row3 col46\" >No</td>\n",
       "      <td id=\"T_9ceb7_row3_col47\" class=\"data row3 col47\" >Ch</td>\n",
       "      <td id=\"T_9ceb7_row3_col48\" class=\"data row3 col48\" >Yes</td>\n",
       "      <td id=\"T_9ceb7_row3_col49\" class=\"data row3 col49\" >NO</td>\n",
       "    </tr>\n",
       "    <tr>\n",
       "      <th id=\"T_9ceb7_level0_row4\" class=\"row_heading level0 row4\" >402</th>\n",
       "      <td id=\"T_9ceb7_row4_col0\" class=\"data row4 col0\" >3725712</td>\n",
       "      <td id=\"T_9ceb7_row4_col1\" class=\"data row4 col1\" >516384</td>\n",
       "      <td id=\"T_9ceb7_row4_col2\" class=\"data row4 col2\" >Caucasian</td>\n",
       "      <td id=\"T_9ceb7_row4_col3\" class=\"data row4 col3\" >Female</td>\n",
       "      <td id=\"T_9ceb7_row4_col4\" class=\"data row4 col4\" >[50-60)</td>\n",
       "      <td id=\"T_9ceb7_row4_col5\" class=\"data row4 col5\" >?</td>\n",
       "      <td id=\"T_9ceb7_row4_col6\" class=\"data row4 col6\" >6</td>\n",
       "      <td id=\"T_9ceb7_row4_col7\" class=\"data row4 col7\" >25</td>\n",
       "      <td id=\"T_9ceb7_row4_col8\" class=\"data row4 col8\" >7</td>\n",
       "      <td id=\"T_9ceb7_row4_col9\" class=\"data row4 col9\" >3</td>\n",
       "      <td id=\"T_9ceb7_row4_col10\" class=\"data row4 col10\" >?</td>\n",
       "      <td id=\"T_9ceb7_row4_col11\" class=\"data row4 col11\" >Nephrology</td>\n",
       "      <td id=\"T_9ceb7_row4_col12\" class=\"data row4 col12\" >85</td>\n",
       "      <td id=\"T_9ceb7_row4_col13\" class=\"data row4 col13\" >0</td>\n",
       "      <td id=\"T_9ceb7_row4_col14\" class=\"data row4 col14\" >11</td>\n",
       "      <td id=\"T_9ceb7_row4_col15\" class=\"data row4 col15\" >0</td>\n",
       "      <td id=\"T_9ceb7_row4_col16\" class=\"data row4 col16\" >0</td>\n",
       "      <td id=\"T_9ceb7_row4_col17\" class=\"data row4 col17\" >0</td>\n",
       "      <td id=\"T_9ceb7_row4_col18\" class=\"data row4 col18\" >276</td>\n",
       "      <td id=\"T_9ceb7_row4_col19\" class=\"data row4 col19\" >584</td>\n",
       "      <td id=\"T_9ceb7_row4_col20\" class=\"data row4 col20\" >403</td>\n",
       "      <td id=\"T_9ceb7_row4_col21\" class=\"data row4 col21\" >9</td>\n",
       "      <td id=\"T_9ceb7_row4_col22\" class=\"data row4 col22\" >nan</td>\n",
       "      <td id=\"T_9ceb7_row4_col23\" class=\"data row4 col23\" >Norm</td>\n",
       "      <td id=\"T_9ceb7_row4_col24\" class=\"data row4 col24\" >No</td>\n",
       "      <td id=\"T_9ceb7_row4_col25\" class=\"data row4 col25\" >No</td>\n",
       "      <td id=\"T_9ceb7_row4_col26\" class=\"data row4 col26\" >No</td>\n",
       "      <td id=\"T_9ceb7_row4_col27\" class=\"data row4 col27\" >No</td>\n",
       "      <td id=\"T_9ceb7_row4_col28\" class=\"data row4 col28\" >No</td>\n",
       "      <td id=\"T_9ceb7_row4_col29\" class=\"data row4 col29\" >No</td>\n",
       "      <td id=\"T_9ceb7_row4_col30\" class=\"data row4 col30\" >No</td>\n",
       "      <td id=\"T_9ceb7_row4_col31\" class=\"data row4 col31\" >Steady</td>\n",
       "      <td id=\"T_9ceb7_row4_col32\" class=\"data row4 col32\" >No</td>\n",
       "      <td id=\"T_9ceb7_row4_col33\" class=\"data row4 col33\" >No</td>\n",
       "      <td id=\"T_9ceb7_row4_col34\" class=\"data row4 col34\" >No</td>\n",
       "      <td id=\"T_9ceb7_row4_col35\" class=\"data row4 col35\" >No</td>\n",
       "      <td id=\"T_9ceb7_row4_col36\" class=\"data row4 col36\" >No</td>\n",
       "      <td id=\"T_9ceb7_row4_col37\" class=\"data row4 col37\" >No</td>\n",
       "      <td id=\"T_9ceb7_row4_col38\" class=\"data row4 col38\" >No</td>\n",
       "      <td id=\"T_9ceb7_row4_col39\" class=\"data row4 col39\" >No</td>\n",
       "      <td id=\"T_9ceb7_row4_col40\" class=\"data row4 col40\" >No</td>\n",
       "      <td id=\"T_9ceb7_row4_col41\" class=\"data row4 col41\" >Down</td>\n",
       "      <td id=\"T_9ceb7_row4_col42\" class=\"data row4 col42\" >No</td>\n",
       "      <td id=\"T_9ceb7_row4_col43\" class=\"data row4 col43\" >No</td>\n",
       "      <td id=\"T_9ceb7_row4_col44\" class=\"data row4 col44\" >No</td>\n",
       "      <td id=\"T_9ceb7_row4_col45\" class=\"data row4 col45\" >No</td>\n",
       "      <td id=\"T_9ceb7_row4_col46\" class=\"data row4 col46\" >No</td>\n",
       "      <td id=\"T_9ceb7_row4_col47\" class=\"data row4 col47\" >Ch</td>\n",
       "      <td id=\"T_9ceb7_row4_col48\" class=\"data row4 col48\" >Yes</td>\n",
       "      <td id=\"T_9ceb7_row4_col49\" class=\"data row4 col49\" >>30</td>\n",
       "    </tr>\n",
       "  </tbody>\n",
       "</table>\n"
      ],
      "text/plain": [
       "<pandas.io.formats.style.Styler at 0x7f0e2621e590>"
      ]
     },
     "metadata": {},
     "output_type": "display_data"
    },
    {
     "name": "stdout",
     "output_type": "stream",
     "text": [
      "\n",
      "\n",
      "Information of Dataset:\n",
      "<class 'pandas.core.frame.DataFrame'>\n",
      "RangeIndex: 101766 entries, 0 to 101765\n",
      "Data columns (total 50 columns):\n",
      " #   Column                    Non-Null Count   Dtype \n",
      "---  ------                    --------------   ----- \n",
      " 0   encounter_id              101766 non-null  int64 \n",
      " 1   patient_nbr               101766 non-null  int64 \n",
      " 2   race                      101766 non-null  object\n",
      " 3   gender                    101766 non-null  object\n",
      " 4   age                       101766 non-null  object\n",
      " 5   weight                    101766 non-null  object\n",
      " 6   admission_type_id         101766 non-null  int64 \n",
      " 7   discharge_disposition_id  101766 non-null  int64 \n",
      " 8   admission_source_id       101766 non-null  int64 \n",
      " 9   time_in_hospital          101766 non-null  int64 \n",
      " 10  payer_code                101766 non-null  object\n",
      " 11  medical_specialty         101766 non-null  object\n",
      " 12  num_lab_procedures        101766 non-null  int64 \n",
      " 13  num_procedures            101766 non-null  int64 \n",
      " 14  num_medications           101766 non-null  int64 \n",
      " 15  number_outpatient         101766 non-null  int64 \n",
      " 16  number_emergency          101766 non-null  int64 \n",
      " 17  number_inpatient          101766 non-null  int64 \n",
      " 18  diag_1                    101766 non-null  object\n",
      " 19  diag_2                    101766 non-null  object\n",
      " 20  diag_3                    101766 non-null  object\n",
      " 21  number_diagnoses          101766 non-null  int64 \n",
      " 22  max_glu_serum             5346 non-null    object\n",
      " 23  A1Cresult                 17018 non-null   object\n",
      " 24  metformin                 101766 non-null  object\n",
      " 25  repaglinide               101766 non-null  object\n",
      " 26  nateglinide               101766 non-null  object\n",
      " 27  chlorpropamide            101766 non-null  object\n",
      " 28  glimepiride               101766 non-null  object\n",
      " 29  acetohexamide             101766 non-null  object\n",
      " 30  glipizide                 101766 non-null  object\n",
      " 31  glyburide                 101766 non-null  object\n",
      " 32  tolbutamide               101766 non-null  object\n",
      " 33  pioglitazone              101766 non-null  object\n",
      " 34  rosiglitazone             101766 non-null  object\n",
      " 35  acarbose                  101766 non-null  object\n",
      " 36  miglitol                  101766 non-null  object\n",
      " 37  troglitazone              101766 non-null  object\n",
      " 38  tolazamide                101766 non-null  object\n",
      " 39  examide                   101766 non-null  object\n",
      " 40  citoglipton               101766 non-null  object\n",
      " 41  insulin                   101766 non-null  object\n",
      " 42  glyburide-metformin       101766 non-null  object\n",
      " 43  glipizide-metformin       101766 non-null  object\n",
      " 44  glimepiride-pioglitazone  101766 non-null  object\n",
      " 45  metformin-rosiglitazone   101766 non-null  object\n",
      " 46  metformin-pioglitazone    101766 non-null  object\n",
      " 47  change                    101766 non-null  object\n",
      " 48  diabetesMed               101766 non-null  object\n",
      " 49  readmitted                101766 non-null  object\n",
      "dtypes: int64(13), object(37)\n",
      "memory usage: 38.8+ MB\n"
     ]
    },
    {
     "data": {
      "text/plain": [
       "None"
      ]
     },
     "metadata": {},
     "output_type": "display_data"
    },
    {
     "name": "stdout",
     "output_type": "stream",
     "text": [
      "\n",
      "\n",
      "Description of Dataset for Numeric Features:\n"
     ]
    },
    {
     "data": {
      "text/html": [
       "<style type=\"text/css\">\n",
       "#T_81d2b_row0_col0, #T_81d2b_row1_col0, #T_81d2b_row2_col0, #T_81d2b_row2_col1, #T_81d2b_row2_col2, #T_81d2b_row2_col3, #T_81d2b_row2_col4, #T_81d2b_row2_col5, #T_81d2b_row2_col6, #T_81d2b_row2_col7, #T_81d2b_row3_col0, #T_81d2b_row3_col1, #T_81d2b_row3_col2, #T_81d2b_row3_col3, #T_81d2b_row3_col4, #T_81d2b_row3_col5, #T_81d2b_row3_col6, #T_81d2b_row3_col7, #T_81d2b_row4_col0, #T_81d2b_row4_col1, #T_81d2b_row4_col2, #T_81d2b_row4_col3, #T_81d2b_row4_col4, #T_81d2b_row4_col5, #T_81d2b_row4_col6, #T_81d2b_row4_col7, #T_81d2b_row5_col0, #T_81d2b_row5_col1, #T_81d2b_row5_col2, #T_81d2b_row5_col3, #T_81d2b_row5_col4, #T_81d2b_row5_col5, #T_81d2b_row5_col6, #T_81d2b_row5_col7, #T_81d2b_row6_col0, #T_81d2b_row6_col1, #T_81d2b_row6_col2, #T_81d2b_row6_col3, #T_81d2b_row6_col4, #T_81d2b_row6_col5, #T_81d2b_row6_col6, #T_81d2b_row6_col7, #T_81d2b_row7_col0, #T_81d2b_row7_col1, #T_81d2b_row7_col2, #T_81d2b_row7_col3, #T_81d2b_row7_col4, #T_81d2b_row7_col5, #T_81d2b_row7_col6, #T_81d2b_row7_col7, #T_81d2b_row8_col0, #T_81d2b_row8_col1, #T_81d2b_row8_col2, #T_81d2b_row8_col3, #T_81d2b_row8_col4, #T_81d2b_row8_col5, #T_81d2b_row8_col6, #T_81d2b_row8_col7, #T_81d2b_row9_col0, #T_81d2b_row9_col1, #T_81d2b_row9_col2, #T_81d2b_row9_col3, #T_81d2b_row9_col4, #T_81d2b_row9_col5, #T_81d2b_row9_col6, #T_81d2b_row9_col7, #T_81d2b_row10_col0, #T_81d2b_row10_col1, #T_81d2b_row10_col2, #T_81d2b_row10_col3, #T_81d2b_row10_col4, #T_81d2b_row10_col5, #T_81d2b_row10_col6, #T_81d2b_row10_col7, #T_81d2b_row11_col0, #T_81d2b_row11_col1, #T_81d2b_row11_col2, #T_81d2b_row11_col3, #T_81d2b_row11_col4, #T_81d2b_row11_col5, #T_81d2b_row11_col6, #T_81d2b_row11_col7, #T_81d2b_row12_col0, #T_81d2b_row12_col1, #T_81d2b_row12_col2, #T_81d2b_row12_col3, #T_81d2b_row12_col4, #T_81d2b_row12_col5, #T_81d2b_row12_col6, #T_81d2b_row12_col7 {\n",
       "  background-color: #f7fbff;\n",
       "  color: #000000;\n",
       "}\n",
       "#T_81d2b_row0_col1, #T_81d2b_row0_col2, #T_81d2b_row0_col3, #T_81d2b_row0_col4, #T_81d2b_row0_col5, #T_81d2b_row0_col6, #T_81d2b_row0_col7 {\n",
       "  background-color: #08306b;\n",
       "  color: #f1f1f1;\n",
       "}\n",
       "#T_81d2b_row1_col1 {\n",
       "  background-color: #add0e6;\n",
       "  color: #000000;\n",
       "}\n",
       "#T_81d2b_row1_col2 {\n",
       "  background-color: #9dcae1;\n",
       "  color: #000000;\n",
       "}\n",
       "#T_81d2b_row1_col3 {\n",
       "  background-color: #f5fafe;\n",
       "  color: #000000;\n",
       "}\n",
       "#T_81d2b_row1_col4 {\n",
       "  background-color: #bed8ec;\n",
       "  color: #000000;\n",
       "}\n",
       "#T_81d2b_row1_col5 {\n",
       "  background-color: #b7d4ea;\n",
       "  color: #000000;\n",
       "}\n",
       "#T_81d2b_row1_col6 {\n",
       "  background-color: #9cc9e1;\n",
       "  color: #000000;\n",
       "}\n",
       "#T_81d2b_row1_col7 {\n",
       "  background-color: #89bedc;\n",
       "  color: #000000;\n",
       "}\n",
       "</style>\n",
       "<table id=\"T_81d2b\">\n",
       "  <thead>\n",
       "    <tr>\n",
       "      <th class=\"blank level0\" >&nbsp;</th>\n",
       "      <th id=\"T_81d2b_level0_col0\" class=\"col_heading level0 col0\" >count</th>\n",
       "      <th id=\"T_81d2b_level0_col1\" class=\"col_heading level0 col1\" >mean</th>\n",
       "      <th id=\"T_81d2b_level0_col2\" class=\"col_heading level0 col2\" >std</th>\n",
       "      <th id=\"T_81d2b_level0_col3\" class=\"col_heading level0 col3\" >min</th>\n",
       "      <th id=\"T_81d2b_level0_col4\" class=\"col_heading level0 col4\" >25%</th>\n",
       "      <th id=\"T_81d2b_level0_col5\" class=\"col_heading level0 col5\" >50%</th>\n",
       "      <th id=\"T_81d2b_level0_col6\" class=\"col_heading level0 col6\" >75%</th>\n",
       "      <th id=\"T_81d2b_level0_col7\" class=\"col_heading level0 col7\" >max</th>\n",
       "    </tr>\n",
       "  </thead>\n",
       "  <tbody>\n",
       "    <tr>\n",
       "      <th id=\"T_81d2b_level0_row0\" class=\"row_heading level0 row0\" >encounter_id</th>\n",
       "      <td id=\"T_81d2b_row0_col0\" class=\"data row0 col0\" >101766.000000</td>\n",
       "      <td id=\"T_81d2b_row0_col1\" class=\"data row0 col1\" >165201645.622978</td>\n",
       "      <td id=\"T_81d2b_row0_col2\" class=\"data row0 col2\" >102640295.983457</td>\n",
       "      <td id=\"T_81d2b_row0_col3\" class=\"data row0 col3\" >12522.000000</td>\n",
       "      <td id=\"T_81d2b_row0_col4\" class=\"data row0 col4\" >84961194.000000</td>\n",
       "      <td id=\"T_81d2b_row0_col5\" class=\"data row0 col5\" >152388987.000000</td>\n",
       "      <td id=\"T_81d2b_row0_col6\" class=\"data row0 col6\" >230270887.500000</td>\n",
       "      <td id=\"T_81d2b_row0_col7\" class=\"data row0 col7\" >443867222.000000</td>\n",
       "    </tr>\n",
       "    <tr>\n",
       "      <th id=\"T_81d2b_level0_row1\" class=\"row_heading level0 row1\" >patient_nbr</th>\n",
       "      <td id=\"T_81d2b_row1_col0\" class=\"data row1 col0\" >101766.000000</td>\n",
       "      <td id=\"T_81d2b_row1_col1\" class=\"data row1 col1\" >54330400.694947</td>\n",
       "      <td id=\"T_81d2b_row1_col2\" class=\"data row1 col2\" >38696359.346534</td>\n",
       "      <td id=\"T_81d2b_row1_col3\" class=\"data row1 col3\" >135.000000</td>\n",
       "      <td id=\"T_81d2b_row1_col4\" class=\"data row1 col4\" >23413221.000000</td>\n",
       "      <td id=\"T_81d2b_row1_col5\" class=\"data row1 col5\" >45505143.000000</td>\n",
       "      <td id=\"T_81d2b_row1_col6\" class=\"data row1 col6\" >87545949.750000</td>\n",
       "      <td id=\"T_81d2b_row1_col7\" class=\"data row1 col7\" >189502619.000000</td>\n",
       "    </tr>\n",
       "    <tr>\n",
       "      <th id=\"T_81d2b_level0_row2\" class=\"row_heading level0 row2\" >admission_type_id</th>\n",
       "      <td id=\"T_81d2b_row2_col0\" class=\"data row2 col0\" >101766.000000</td>\n",
       "      <td id=\"T_81d2b_row2_col1\" class=\"data row2 col1\" >2.024006</td>\n",
       "      <td id=\"T_81d2b_row2_col2\" class=\"data row2 col2\" >1.445403</td>\n",
       "      <td id=\"T_81d2b_row2_col3\" class=\"data row2 col3\" >1.000000</td>\n",
       "      <td id=\"T_81d2b_row2_col4\" class=\"data row2 col4\" >1.000000</td>\n",
       "      <td id=\"T_81d2b_row2_col5\" class=\"data row2 col5\" >1.000000</td>\n",
       "      <td id=\"T_81d2b_row2_col6\" class=\"data row2 col6\" >3.000000</td>\n",
       "      <td id=\"T_81d2b_row2_col7\" class=\"data row2 col7\" >8.000000</td>\n",
       "    </tr>\n",
       "    <tr>\n",
       "      <th id=\"T_81d2b_level0_row3\" class=\"row_heading level0 row3\" >discharge_disposition_id</th>\n",
       "      <td id=\"T_81d2b_row3_col0\" class=\"data row3 col0\" >101766.000000</td>\n",
       "      <td id=\"T_81d2b_row3_col1\" class=\"data row3 col1\" >3.715642</td>\n",
       "      <td id=\"T_81d2b_row3_col2\" class=\"data row3 col2\" >5.280166</td>\n",
       "      <td id=\"T_81d2b_row3_col3\" class=\"data row3 col3\" >1.000000</td>\n",
       "      <td id=\"T_81d2b_row3_col4\" class=\"data row3 col4\" >1.000000</td>\n",
       "      <td id=\"T_81d2b_row3_col5\" class=\"data row3 col5\" >1.000000</td>\n",
       "      <td id=\"T_81d2b_row3_col6\" class=\"data row3 col6\" >4.000000</td>\n",
       "      <td id=\"T_81d2b_row3_col7\" class=\"data row3 col7\" >28.000000</td>\n",
       "    </tr>\n",
       "    <tr>\n",
       "      <th id=\"T_81d2b_level0_row4\" class=\"row_heading level0 row4\" >admission_source_id</th>\n",
       "      <td id=\"T_81d2b_row4_col0\" class=\"data row4 col0\" >101766.000000</td>\n",
       "      <td id=\"T_81d2b_row4_col1\" class=\"data row4 col1\" >5.754437</td>\n",
       "      <td id=\"T_81d2b_row4_col2\" class=\"data row4 col2\" >4.064081</td>\n",
       "      <td id=\"T_81d2b_row4_col3\" class=\"data row4 col3\" >1.000000</td>\n",
       "      <td id=\"T_81d2b_row4_col4\" class=\"data row4 col4\" >1.000000</td>\n",
       "      <td id=\"T_81d2b_row4_col5\" class=\"data row4 col5\" >7.000000</td>\n",
       "      <td id=\"T_81d2b_row4_col6\" class=\"data row4 col6\" >7.000000</td>\n",
       "      <td id=\"T_81d2b_row4_col7\" class=\"data row4 col7\" >25.000000</td>\n",
       "    </tr>\n",
       "    <tr>\n",
       "      <th id=\"T_81d2b_level0_row5\" class=\"row_heading level0 row5\" >time_in_hospital</th>\n",
       "      <td id=\"T_81d2b_row5_col0\" class=\"data row5 col0\" >101766.000000</td>\n",
       "      <td id=\"T_81d2b_row5_col1\" class=\"data row5 col1\" >4.395987</td>\n",
       "      <td id=\"T_81d2b_row5_col2\" class=\"data row5 col2\" >2.985108</td>\n",
       "      <td id=\"T_81d2b_row5_col3\" class=\"data row5 col3\" >1.000000</td>\n",
       "      <td id=\"T_81d2b_row5_col4\" class=\"data row5 col4\" >2.000000</td>\n",
       "      <td id=\"T_81d2b_row5_col5\" class=\"data row5 col5\" >4.000000</td>\n",
       "      <td id=\"T_81d2b_row5_col6\" class=\"data row5 col6\" >6.000000</td>\n",
       "      <td id=\"T_81d2b_row5_col7\" class=\"data row5 col7\" >14.000000</td>\n",
       "    </tr>\n",
       "    <tr>\n",
       "      <th id=\"T_81d2b_level0_row6\" class=\"row_heading level0 row6\" >num_lab_procedures</th>\n",
       "      <td id=\"T_81d2b_row6_col0\" class=\"data row6 col0\" >101766.000000</td>\n",
       "      <td id=\"T_81d2b_row6_col1\" class=\"data row6 col1\" >43.095641</td>\n",
       "      <td id=\"T_81d2b_row6_col2\" class=\"data row6 col2\" >19.674362</td>\n",
       "      <td id=\"T_81d2b_row6_col3\" class=\"data row6 col3\" >1.000000</td>\n",
       "      <td id=\"T_81d2b_row6_col4\" class=\"data row6 col4\" >31.000000</td>\n",
       "      <td id=\"T_81d2b_row6_col5\" class=\"data row6 col5\" >44.000000</td>\n",
       "      <td id=\"T_81d2b_row6_col6\" class=\"data row6 col6\" >57.000000</td>\n",
       "      <td id=\"T_81d2b_row6_col7\" class=\"data row6 col7\" >132.000000</td>\n",
       "    </tr>\n",
       "    <tr>\n",
       "      <th id=\"T_81d2b_level0_row7\" class=\"row_heading level0 row7\" >num_procedures</th>\n",
       "      <td id=\"T_81d2b_row7_col0\" class=\"data row7 col0\" >101766.000000</td>\n",
       "      <td id=\"T_81d2b_row7_col1\" class=\"data row7 col1\" >1.339730</td>\n",
       "      <td id=\"T_81d2b_row7_col2\" class=\"data row7 col2\" >1.705807</td>\n",
       "      <td id=\"T_81d2b_row7_col3\" class=\"data row7 col3\" >0.000000</td>\n",
       "      <td id=\"T_81d2b_row7_col4\" class=\"data row7 col4\" >0.000000</td>\n",
       "      <td id=\"T_81d2b_row7_col5\" class=\"data row7 col5\" >1.000000</td>\n",
       "      <td id=\"T_81d2b_row7_col6\" class=\"data row7 col6\" >2.000000</td>\n",
       "      <td id=\"T_81d2b_row7_col7\" class=\"data row7 col7\" >6.000000</td>\n",
       "    </tr>\n",
       "    <tr>\n",
       "      <th id=\"T_81d2b_level0_row8\" class=\"row_heading level0 row8\" >num_medications</th>\n",
       "      <td id=\"T_81d2b_row8_col0\" class=\"data row8 col0\" >101766.000000</td>\n",
       "      <td id=\"T_81d2b_row8_col1\" class=\"data row8 col1\" >16.021844</td>\n",
       "      <td id=\"T_81d2b_row8_col2\" class=\"data row8 col2\" >8.127566</td>\n",
       "      <td id=\"T_81d2b_row8_col3\" class=\"data row8 col3\" >1.000000</td>\n",
       "      <td id=\"T_81d2b_row8_col4\" class=\"data row8 col4\" >10.000000</td>\n",
       "      <td id=\"T_81d2b_row8_col5\" class=\"data row8 col5\" >15.000000</td>\n",
       "      <td id=\"T_81d2b_row8_col6\" class=\"data row8 col6\" >20.000000</td>\n",
       "      <td id=\"T_81d2b_row8_col7\" class=\"data row8 col7\" >81.000000</td>\n",
       "    </tr>\n",
       "    <tr>\n",
       "      <th id=\"T_81d2b_level0_row9\" class=\"row_heading level0 row9\" >number_outpatient</th>\n",
       "      <td id=\"T_81d2b_row9_col0\" class=\"data row9 col0\" >101766.000000</td>\n",
       "      <td id=\"T_81d2b_row9_col1\" class=\"data row9 col1\" >0.369357</td>\n",
       "      <td id=\"T_81d2b_row9_col2\" class=\"data row9 col2\" >1.267265</td>\n",
       "      <td id=\"T_81d2b_row9_col3\" class=\"data row9 col3\" >0.000000</td>\n",
       "      <td id=\"T_81d2b_row9_col4\" class=\"data row9 col4\" >0.000000</td>\n",
       "      <td id=\"T_81d2b_row9_col5\" class=\"data row9 col5\" >0.000000</td>\n",
       "      <td id=\"T_81d2b_row9_col6\" class=\"data row9 col6\" >0.000000</td>\n",
       "      <td id=\"T_81d2b_row9_col7\" class=\"data row9 col7\" >42.000000</td>\n",
       "    </tr>\n",
       "    <tr>\n",
       "      <th id=\"T_81d2b_level0_row10\" class=\"row_heading level0 row10\" >number_emergency</th>\n",
       "      <td id=\"T_81d2b_row10_col0\" class=\"data row10 col0\" >101766.000000</td>\n",
       "      <td id=\"T_81d2b_row10_col1\" class=\"data row10 col1\" >0.197836</td>\n",
       "      <td id=\"T_81d2b_row10_col2\" class=\"data row10 col2\" >0.930472</td>\n",
       "      <td id=\"T_81d2b_row10_col3\" class=\"data row10 col3\" >0.000000</td>\n",
       "      <td id=\"T_81d2b_row10_col4\" class=\"data row10 col4\" >0.000000</td>\n",
       "      <td id=\"T_81d2b_row10_col5\" class=\"data row10 col5\" >0.000000</td>\n",
       "      <td id=\"T_81d2b_row10_col6\" class=\"data row10 col6\" >0.000000</td>\n",
       "      <td id=\"T_81d2b_row10_col7\" class=\"data row10 col7\" >76.000000</td>\n",
       "    </tr>\n",
       "    <tr>\n",
       "      <th id=\"T_81d2b_level0_row11\" class=\"row_heading level0 row11\" >number_inpatient</th>\n",
       "      <td id=\"T_81d2b_row11_col0\" class=\"data row11 col0\" >101766.000000</td>\n",
       "      <td id=\"T_81d2b_row11_col1\" class=\"data row11 col1\" >0.635566</td>\n",
       "      <td id=\"T_81d2b_row11_col2\" class=\"data row11 col2\" >1.262863</td>\n",
       "      <td id=\"T_81d2b_row11_col3\" class=\"data row11 col3\" >0.000000</td>\n",
       "      <td id=\"T_81d2b_row11_col4\" class=\"data row11 col4\" >0.000000</td>\n",
       "      <td id=\"T_81d2b_row11_col5\" class=\"data row11 col5\" >0.000000</td>\n",
       "      <td id=\"T_81d2b_row11_col6\" class=\"data row11 col6\" >1.000000</td>\n",
       "      <td id=\"T_81d2b_row11_col7\" class=\"data row11 col7\" >21.000000</td>\n",
       "    </tr>\n",
       "    <tr>\n",
       "      <th id=\"T_81d2b_level0_row12\" class=\"row_heading level0 row12\" >number_diagnoses</th>\n",
       "      <td id=\"T_81d2b_row12_col0\" class=\"data row12 col0\" >101766.000000</td>\n",
       "      <td id=\"T_81d2b_row12_col1\" class=\"data row12 col1\" >7.422607</td>\n",
       "      <td id=\"T_81d2b_row12_col2\" class=\"data row12 col2\" >1.933600</td>\n",
       "      <td id=\"T_81d2b_row12_col3\" class=\"data row12 col3\" >1.000000</td>\n",
       "      <td id=\"T_81d2b_row12_col4\" class=\"data row12 col4\" >6.000000</td>\n",
       "      <td id=\"T_81d2b_row12_col5\" class=\"data row12 col5\" >8.000000</td>\n",
       "      <td id=\"T_81d2b_row12_col6\" class=\"data row12 col6\" >9.000000</td>\n",
       "      <td id=\"T_81d2b_row12_col7\" class=\"data row12 col7\" >16.000000</td>\n",
       "    </tr>\n",
       "  </tbody>\n",
       "</table>\n"
      ],
      "text/plain": [
       "<pandas.io.formats.style.Styler at 0x7f0e2621cf10>"
      ]
     },
     "metadata": {},
     "output_type": "display_data"
    },
    {
     "name": "stdout",
     "output_type": "stream",
     "text": [
      "\n",
      "\n",
      "Description of Dataset for Categorical Features:\n"
     ]
    },
    {
     "data": {
      "text/html": [
       "<style type=\"text/css\">\n",
       "</style>\n",
       "<table id=\"T_7674e\">\n",
       "  <thead>\n",
       "    <tr>\n",
       "      <th class=\"blank level0\" >&nbsp;</th>\n",
       "      <th id=\"T_7674e_level0_col0\" class=\"col_heading level0 col0\" >count</th>\n",
       "      <th id=\"T_7674e_level0_col1\" class=\"col_heading level0 col1\" >unique</th>\n",
       "      <th id=\"T_7674e_level0_col2\" class=\"col_heading level0 col2\" >top</th>\n",
       "      <th id=\"T_7674e_level0_col3\" class=\"col_heading level0 col3\" >freq</th>\n",
       "    </tr>\n",
       "  </thead>\n",
       "  <tbody>\n",
       "    <tr>\n",
       "      <th id=\"T_7674e_level0_row0\" class=\"row_heading level0 row0\" >race</th>\n",
       "      <td id=\"T_7674e_row0_col0\" class=\"data row0 col0\" >101766</td>\n",
       "      <td id=\"T_7674e_row0_col1\" class=\"data row0 col1\" >6</td>\n",
       "      <td id=\"T_7674e_row0_col2\" class=\"data row0 col2\" >Caucasian</td>\n",
       "      <td id=\"T_7674e_row0_col3\" class=\"data row0 col3\" >76099</td>\n",
       "    </tr>\n",
       "    <tr>\n",
       "      <th id=\"T_7674e_level0_row1\" class=\"row_heading level0 row1\" >gender</th>\n",
       "      <td id=\"T_7674e_row1_col0\" class=\"data row1 col0\" >101766</td>\n",
       "      <td id=\"T_7674e_row1_col1\" class=\"data row1 col1\" >3</td>\n",
       "      <td id=\"T_7674e_row1_col2\" class=\"data row1 col2\" >Female</td>\n",
       "      <td id=\"T_7674e_row1_col3\" class=\"data row1 col3\" >54708</td>\n",
       "    </tr>\n",
       "    <tr>\n",
       "      <th id=\"T_7674e_level0_row2\" class=\"row_heading level0 row2\" >age</th>\n",
       "      <td id=\"T_7674e_row2_col0\" class=\"data row2 col0\" >101766</td>\n",
       "      <td id=\"T_7674e_row2_col1\" class=\"data row2 col1\" >10</td>\n",
       "      <td id=\"T_7674e_row2_col2\" class=\"data row2 col2\" >[70-80)</td>\n",
       "      <td id=\"T_7674e_row2_col3\" class=\"data row2 col3\" >26068</td>\n",
       "    </tr>\n",
       "    <tr>\n",
       "      <th id=\"T_7674e_level0_row3\" class=\"row_heading level0 row3\" >weight</th>\n",
       "      <td id=\"T_7674e_row3_col0\" class=\"data row3 col0\" >101766</td>\n",
       "      <td id=\"T_7674e_row3_col1\" class=\"data row3 col1\" >10</td>\n",
       "      <td id=\"T_7674e_row3_col2\" class=\"data row3 col2\" >?</td>\n",
       "      <td id=\"T_7674e_row3_col3\" class=\"data row3 col3\" >98569</td>\n",
       "    </tr>\n",
       "    <tr>\n",
       "      <th id=\"T_7674e_level0_row4\" class=\"row_heading level0 row4\" >payer_code</th>\n",
       "      <td id=\"T_7674e_row4_col0\" class=\"data row4 col0\" >101766</td>\n",
       "      <td id=\"T_7674e_row4_col1\" class=\"data row4 col1\" >18</td>\n",
       "      <td id=\"T_7674e_row4_col2\" class=\"data row4 col2\" >?</td>\n",
       "      <td id=\"T_7674e_row4_col3\" class=\"data row4 col3\" >40256</td>\n",
       "    </tr>\n",
       "    <tr>\n",
       "      <th id=\"T_7674e_level0_row5\" class=\"row_heading level0 row5\" >medical_specialty</th>\n",
       "      <td id=\"T_7674e_row5_col0\" class=\"data row5 col0\" >101766</td>\n",
       "      <td id=\"T_7674e_row5_col1\" class=\"data row5 col1\" >73</td>\n",
       "      <td id=\"T_7674e_row5_col2\" class=\"data row5 col2\" >?</td>\n",
       "      <td id=\"T_7674e_row5_col3\" class=\"data row5 col3\" >49949</td>\n",
       "    </tr>\n",
       "    <tr>\n",
       "      <th id=\"T_7674e_level0_row6\" class=\"row_heading level0 row6\" >diag_1</th>\n",
       "      <td id=\"T_7674e_row6_col0\" class=\"data row6 col0\" >101766</td>\n",
       "      <td id=\"T_7674e_row6_col1\" class=\"data row6 col1\" >717</td>\n",
       "      <td id=\"T_7674e_row6_col2\" class=\"data row6 col2\" >428</td>\n",
       "      <td id=\"T_7674e_row6_col3\" class=\"data row6 col3\" >6862</td>\n",
       "    </tr>\n",
       "    <tr>\n",
       "      <th id=\"T_7674e_level0_row7\" class=\"row_heading level0 row7\" >diag_2</th>\n",
       "      <td id=\"T_7674e_row7_col0\" class=\"data row7 col0\" >101766</td>\n",
       "      <td id=\"T_7674e_row7_col1\" class=\"data row7 col1\" >749</td>\n",
       "      <td id=\"T_7674e_row7_col2\" class=\"data row7 col2\" >276</td>\n",
       "      <td id=\"T_7674e_row7_col3\" class=\"data row7 col3\" >6752</td>\n",
       "    </tr>\n",
       "    <tr>\n",
       "      <th id=\"T_7674e_level0_row8\" class=\"row_heading level0 row8\" >diag_3</th>\n",
       "      <td id=\"T_7674e_row8_col0\" class=\"data row8 col0\" >101766</td>\n",
       "      <td id=\"T_7674e_row8_col1\" class=\"data row8 col1\" >790</td>\n",
       "      <td id=\"T_7674e_row8_col2\" class=\"data row8 col2\" >250</td>\n",
       "      <td id=\"T_7674e_row8_col3\" class=\"data row8 col3\" >11555</td>\n",
       "    </tr>\n",
       "    <tr>\n",
       "      <th id=\"T_7674e_level0_row9\" class=\"row_heading level0 row9\" >max_glu_serum</th>\n",
       "      <td id=\"T_7674e_row9_col0\" class=\"data row9 col0\" >5346</td>\n",
       "      <td id=\"T_7674e_row9_col1\" class=\"data row9 col1\" >3</td>\n",
       "      <td id=\"T_7674e_row9_col2\" class=\"data row9 col2\" >Norm</td>\n",
       "      <td id=\"T_7674e_row9_col3\" class=\"data row9 col3\" >2597</td>\n",
       "    </tr>\n",
       "    <tr>\n",
       "      <th id=\"T_7674e_level0_row10\" class=\"row_heading level0 row10\" >A1Cresult</th>\n",
       "      <td id=\"T_7674e_row10_col0\" class=\"data row10 col0\" >17018</td>\n",
       "      <td id=\"T_7674e_row10_col1\" class=\"data row10 col1\" >3</td>\n",
       "      <td id=\"T_7674e_row10_col2\" class=\"data row10 col2\" >>8</td>\n",
       "      <td id=\"T_7674e_row10_col3\" class=\"data row10 col3\" >8216</td>\n",
       "    </tr>\n",
       "    <tr>\n",
       "      <th id=\"T_7674e_level0_row11\" class=\"row_heading level0 row11\" >metformin</th>\n",
       "      <td id=\"T_7674e_row11_col0\" class=\"data row11 col0\" >101766</td>\n",
       "      <td id=\"T_7674e_row11_col1\" class=\"data row11 col1\" >4</td>\n",
       "      <td id=\"T_7674e_row11_col2\" class=\"data row11 col2\" >No</td>\n",
       "      <td id=\"T_7674e_row11_col3\" class=\"data row11 col3\" >81778</td>\n",
       "    </tr>\n",
       "    <tr>\n",
       "      <th id=\"T_7674e_level0_row12\" class=\"row_heading level0 row12\" >repaglinide</th>\n",
       "      <td id=\"T_7674e_row12_col0\" class=\"data row12 col0\" >101766</td>\n",
       "      <td id=\"T_7674e_row12_col1\" class=\"data row12 col1\" >4</td>\n",
       "      <td id=\"T_7674e_row12_col2\" class=\"data row12 col2\" >No</td>\n",
       "      <td id=\"T_7674e_row12_col3\" class=\"data row12 col3\" >100227</td>\n",
       "    </tr>\n",
       "    <tr>\n",
       "      <th id=\"T_7674e_level0_row13\" class=\"row_heading level0 row13\" >nateglinide</th>\n",
       "      <td id=\"T_7674e_row13_col0\" class=\"data row13 col0\" >101766</td>\n",
       "      <td id=\"T_7674e_row13_col1\" class=\"data row13 col1\" >4</td>\n",
       "      <td id=\"T_7674e_row13_col2\" class=\"data row13 col2\" >No</td>\n",
       "      <td id=\"T_7674e_row13_col3\" class=\"data row13 col3\" >101063</td>\n",
       "    </tr>\n",
       "    <tr>\n",
       "      <th id=\"T_7674e_level0_row14\" class=\"row_heading level0 row14\" >chlorpropamide</th>\n",
       "      <td id=\"T_7674e_row14_col0\" class=\"data row14 col0\" >101766</td>\n",
       "      <td id=\"T_7674e_row14_col1\" class=\"data row14 col1\" >4</td>\n",
       "      <td id=\"T_7674e_row14_col2\" class=\"data row14 col2\" >No</td>\n",
       "      <td id=\"T_7674e_row14_col3\" class=\"data row14 col3\" >101680</td>\n",
       "    </tr>\n",
       "    <tr>\n",
       "      <th id=\"T_7674e_level0_row15\" class=\"row_heading level0 row15\" >glimepiride</th>\n",
       "      <td id=\"T_7674e_row15_col0\" class=\"data row15 col0\" >101766</td>\n",
       "      <td id=\"T_7674e_row15_col1\" class=\"data row15 col1\" >4</td>\n",
       "      <td id=\"T_7674e_row15_col2\" class=\"data row15 col2\" >No</td>\n",
       "      <td id=\"T_7674e_row15_col3\" class=\"data row15 col3\" >96575</td>\n",
       "    </tr>\n",
       "    <tr>\n",
       "      <th id=\"T_7674e_level0_row16\" class=\"row_heading level0 row16\" >acetohexamide</th>\n",
       "      <td id=\"T_7674e_row16_col0\" class=\"data row16 col0\" >101766</td>\n",
       "      <td id=\"T_7674e_row16_col1\" class=\"data row16 col1\" >2</td>\n",
       "      <td id=\"T_7674e_row16_col2\" class=\"data row16 col2\" >No</td>\n",
       "      <td id=\"T_7674e_row16_col3\" class=\"data row16 col3\" >101765</td>\n",
       "    </tr>\n",
       "    <tr>\n",
       "      <th id=\"T_7674e_level0_row17\" class=\"row_heading level0 row17\" >glipizide</th>\n",
       "      <td id=\"T_7674e_row17_col0\" class=\"data row17 col0\" >101766</td>\n",
       "      <td id=\"T_7674e_row17_col1\" class=\"data row17 col1\" >4</td>\n",
       "      <td id=\"T_7674e_row17_col2\" class=\"data row17 col2\" >No</td>\n",
       "      <td id=\"T_7674e_row17_col3\" class=\"data row17 col3\" >89080</td>\n",
       "    </tr>\n",
       "    <tr>\n",
       "      <th id=\"T_7674e_level0_row18\" class=\"row_heading level0 row18\" >glyburide</th>\n",
       "      <td id=\"T_7674e_row18_col0\" class=\"data row18 col0\" >101766</td>\n",
       "      <td id=\"T_7674e_row18_col1\" class=\"data row18 col1\" >4</td>\n",
       "      <td id=\"T_7674e_row18_col2\" class=\"data row18 col2\" >No</td>\n",
       "      <td id=\"T_7674e_row18_col3\" class=\"data row18 col3\" >91116</td>\n",
       "    </tr>\n",
       "    <tr>\n",
       "      <th id=\"T_7674e_level0_row19\" class=\"row_heading level0 row19\" >tolbutamide</th>\n",
       "      <td id=\"T_7674e_row19_col0\" class=\"data row19 col0\" >101766</td>\n",
       "      <td id=\"T_7674e_row19_col1\" class=\"data row19 col1\" >2</td>\n",
       "      <td id=\"T_7674e_row19_col2\" class=\"data row19 col2\" >No</td>\n",
       "      <td id=\"T_7674e_row19_col3\" class=\"data row19 col3\" >101743</td>\n",
       "    </tr>\n",
       "    <tr>\n",
       "      <th id=\"T_7674e_level0_row20\" class=\"row_heading level0 row20\" >pioglitazone</th>\n",
       "      <td id=\"T_7674e_row20_col0\" class=\"data row20 col0\" >101766</td>\n",
       "      <td id=\"T_7674e_row20_col1\" class=\"data row20 col1\" >4</td>\n",
       "      <td id=\"T_7674e_row20_col2\" class=\"data row20 col2\" >No</td>\n",
       "      <td id=\"T_7674e_row20_col3\" class=\"data row20 col3\" >94438</td>\n",
       "    </tr>\n",
       "    <tr>\n",
       "      <th id=\"T_7674e_level0_row21\" class=\"row_heading level0 row21\" >rosiglitazone</th>\n",
       "      <td id=\"T_7674e_row21_col0\" class=\"data row21 col0\" >101766</td>\n",
       "      <td id=\"T_7674e_row21_col1\" class=\"data row21 col1\" >4</td>\n",
       "      <td id=\"T_7674e_row21_col2\" class=\"data row21 col2\" >No</td>\n",
       "      <td id=\"T_7674e_row21_col3\" class=\"data row21 col3\" >95401</td>\n",
       "    </tr>\n",
       "    <tr>\n",
       "      <th id=\"T_7674e_level0_row22\" class=\"row_heading level0 row22\" >acarbose</th>\n",
       "      <td id=\"T_7674e_row22_col0\" class=\"data row22 col0\" >101766</td>\n",
       "      <td id=\"T_7674e_row22_col1\" class=\"data row22 col1\" >4</td>\n",
       "      <td id=\"T_7674e_row22_col2\" class=\"data row22 col2\" >No</td>\n",
       "      <td id=\"T_7674e_row22_col3\" class=\"data row22 col3\" >101458</td>\n",
       "    </tr>\n",
       "    <tr>\n",
       "      <th id=\"T_7674e_level0_row23\" class=\"row_heading level0 row23\" >miglitol</th>\n",
       "      <td id=\"T_7674e_row23_col0\" class=\"data row23 col0\" >101766</td>\n",
       "      <td id=\"T_7674e_row23_col1\" class=\"data row23 col1\" >4</td>\n",
       "      <td id=\"T_7674e_row23_col2\" class=\"data row23 col2\" >No</td>\n",
       "      <td id=\"T_7674e_row23_col3\" class=\"data row23 col3\" >101728</td>\n",
       "    </tr>\n",
       "    <tr>\n",
       "      <th id=\"T_7674e_level0_row24\" class=\"row_heading level0 row24\" >troglitazone</th>\n",
       "      <td id=\"T_7674e_row24_col0\" class=\"data row24 col0\" >101766</td>\n",
       "      <td id=\"T_7674e_row24_col1\" class=\"data row24 col1\" >2</td>\n",
       "      <td id=\"T_7674e_row24_col2\" class=\"data row24 col2\" >No</td>\n",
       "      <td id=\"T_7674e_row24_col3\" class=\"data row24 col3\" >101763</td>\n",
       "    </tr>\n",
       "    <tr>\n",
       "      <th id=\"T_7674e_level0_row25\" class=\"row_heading level0 row25\" >tolazamide</th>\n",
       "      <td id=\"T_7674e_row25_col0\" class=\"data row25 col0\" >101766</td>\n",
       "      <td id=\"T_7674e_row25_col1\" class=\"data row25 col1\" >3</td>\n",
       "      <td id=\"T_7674e_row25_col2\" class=\"data row25 col2\" >No</td>\n",
       "      <td id=\"T_7674e_row25_col3\" class=\"data row25 col3\" >101727</td>\n",
       "    </tr>\n",
       "    <tr>\n",
       "      <th id=\"T_7674e_level0_row26\" class=\"row_heading level0 row26\" >examide</th>\n",
       "      <td id=\"T_7674e_row26_col0\" class=\"data row26 col0\" >101766</td>\n",
       "      <td id=\"T_7674e_row26_col1\" class=\"data row26 col1\" >1</td>\n",
       "      <td id=\"T_7674e_row26_col2\" class=\"data row26 col2\" >No</td>\n",
       "      <td id=\"T_7674e_row26_col3\" class=\"data row26 col3\" >101766</td>\n",
       "    </tr>\n",
       "    <tr>\n",
       "      <th id=\"T_7674e_level0_row27\" class=\"row_heading level0 row27\" >citoglipton</th>\n",
       "      <td id=\"T_7674e_row27_col0\" class=\"data row27 col0\" >101766</td>\n",
       "      <td id=\"T_7674e_row27_col1\" class=\"data row27 col1\" >1</td>\n",
       "      <td id=\"T_7674e_row27_col2\" class=\"data row27 col2\" >No</td>\n",
       "      <td id=\"T_7674e_row27_col3\" class=\"data row27 col3\" >101766</td>\n",
       "    </tr>\n",
       "    <tr>\n",
       "      <th id=\"T_7674e_level0_row28\" class=\"row_heading level0 row28\" >insulin</th>\n",
       "      <td id=\"T_7674e_row28_col0\" class=\"data row28 col0\" >101766</td>\n",
       "      <td id=\"T_7674e_row28_col1\" class=\"data row28 col1\" >4</td>\n",
       "      <td id=\"T_7674e_row28_col2\" class=\"data row28 col2\" >No</td>\n",
       "      <td id=\"T_7674e_row28_col3\" class=\"data row28 col3\" >47383</td>\n",
       "    </tr>\n",
       "    <tr>\n",
       "      <th id=\"T_7674e_level0_row29\" class=\"row_heading level0 row29\" >glyburide-metformin</th>\n",
       "      <td id=\"T_7674e_row29_col0\" class=\"data row29 col0\" >101766</td>\n",
       "      <td id=\"T_7674e_row29_col1\" class=\"data row29 col1\" >4</td>\n",
       "      <td id=\"T_7674e_row29_col2\" class=\"data row29 col2\" >No</td>\n",
       "      <td id=\"T_7674e_row29_col3\" class=\"data row29 col3\" >101060</td>\n",
       "    </tr>\n",
       "    <tr>\n",
       "      <th id=\"T_7674e_level0_row30\" class=\"row_heading level0 row30\" >glipizide-metformin</th>\n",
       "      <td id=\"T_7674e_row30_col0\" class=\"data row30 col0\" >101766</td>\n",
       "      <td id=\"T_7674e_row30_col1\" class=\"data row30 col1\" >2</td>\n",
       "      <td id=\"T_7674e_row30_col2\" class=\"data row30 col2\" >No</td>\n",
       "      <td id=\"T_7674e_row30_col3\" class=\"data row30 col3\" >101753</td>\n",
       "    </tr>\n",
       "    <tr>\n",
       "      <th id=\"T_7674e_level0_row31\" class=\"row_heading level0 row31\" >glimepiride-pioglitazone</th>\n",
       "      <td id=\"T_7674e_row31_col0\" class=\"data row31 col0\" >101766</td>\n",
       "      <td id=\"T_7674e_row31_col1\" class=\"data row31 col1\" >2</td>\n",
       "      <td id=\"T_7674e_row31_col2\" class=\"data row31 col2\" >No</td>\n",
       "      <td id=\"T_7674e_row31_col3\" class=\"data row31 col3\" >101765</td>\n",
       "    </tr>\n",
       "    <tr>\n",
       "      <th id=\"T_7674e_level0_row32\" class=\"row_heading level0 row32\" >metformin-rosiglitazone</th>\n",
       "      <td id=\"T_7674e_row32_col0\" class=\"data row32 col0\" >101766</td>\n",
       "      <td id=\"T_7674e_row32_col1\" class=\"data row32 col1\" >2</td>\n",
       "      <td id=\"T_7674e_row32_col2\" class=\"data row32 col2\" >No</td>\n",
       "      <td id=\"T_7674e_row32_col3\" class=\"data row32 col3\" >101764</td>\n",
       "    </tr>\n",
       "    <tr>\n",
       "      <th id=\"T_7674e_level0_row33\" class=\"row_heading level0 row33\" >metformin-pioglitazone</th>\n",
       "      <td id=\"T_7674e_row33_col0\" class=\"data row33 col0\" >101766</td>\n",
       "      <td id=\"T_7674e_row33_col1\" class=\"data row33 col1\" >2</td>\n",
       "      <td id=\"T_7674e_row33_col2\" class=\"data row33 col2\" >No</td>\n",
       "      <td id=\"T_7674e_row33_col3\" class=\"data row33 col3\" >101765</td>\n",
       "    </tr>\n",
       "    <tr>\n",
       "      <th id=\"T_7674e_level0_row34\" class=\"row_heading level0 row34\" >change</th>\n",
       "      <td id=\"T_7674e_row34_col0\" class=\"data row34 col0\" >101766</td>\n",
       "      <td id=\"T_7674e_row34_col1\" class=\"data row34 col1\" >2</td>\n",
       "      <td id=\"T_7674e_row34_col2\" class=\"data row34 col2\" >No</td>\n",
       "      <td id=\"T_7674e_row34_col3\" class=\"data row34 col3\" >54755</td>\n",
       "    </tr>\n",
       "    <tr>\n",
       "      <th id=\"T_7674e_level0_row35\" class=\"row_heading level0 row35\" >diabetesMed</th>\n",
       "      <td id=\"T_7674e_row35_col0\" class=\"data row35 col0\" >101766</td>\n",
       "      <td id=\"T_7674e_row35_col1\" class=\"data row35 col1\" >2</td>\n",
       "      <td id=\"T_7674e_row35_col2\" class=\"data row35 col2\" >Yes</td>\n",
       "      <td id=\"T_7674e_row35_col3\" class=\"data row35 col3\" >78363</td>\n",
       "    </tr>\n",
       "    <tr>\n",
       "      <th id=\"T_7674e_level0_row36\" class=\"row_heading level0 row36\" >readmitted</th>\n",
       "      <td id=\"T_7674e_row36_col0\" class=\"data row36 col0\" >101766</td>\n",
       "      <td id=\"T_7674e_row36_col1\" class=\"data row36 col1\" >3</td>\n",
       "      <td id=\"T_7674e_row36_col2\" class=\"data row36 col2\" >NO</td>\n",
       "      <td id=\"T_7674e_row36_col3\" class=\"data row36 col3\" >54864</td>\n",
       "    </tr>\n",
       "  </tbody>\n",
       "</table>\n"
      ],
      "text/plain": [
       "<pandas.io.formats.style.Styler at 0x7f0e26310760>"
      ]
     },
     "metadata": {},
     "output_type": "display_data"
    },
    {
     "name": "stdout",
     "output_type": "stream",
     "text": [
      "\n",
      "\n",
      "Correlation Heatmap:\n"
     ]
    },
    {
     "data": {
      "image/png": "[encoded data removed]",
      "text/plain": [
       "<Figure size 1000x1000 with 2 Axes>"
      ]
     },
     "metadata": {},
     "output_type": "display_data"
    },
    {
     "name": "stdout",
     "output_type": "stream",
     "text": [
      "\n",
      "\n",
      "Null Values in Dataset:\n"
     ]
    },
    {
     "data": {
      "text/plain": [
       "encounter_id                 0.000000\n",
       "patient_nbr                  0.000000\n",
       "race                         0.000000\n",
       "gender                       0.000000\n",
       "age                          0.000000\n",
       "weight                       0.000000\n",
       "admission_type_id            0.000000\n",
       "discharge_disposition_id     0.000000\n",
       "admission_source_id          0.000000\n",
       "time_in_hospital             0.000000\n",
       "payer_code                   0.000000\n",
       "medical_specialty            0.000000\n",
       "num_lab_procedures           0.000000\n",
       "num_procedures               0.000000\n",
       "num_medications              0.000000\n",
       "number_outpatient            0.000000\n",
       "number_emergency             0.000000\n",
       "number_inpatient             0.000000\n",
       "diag_1                       0.000000\n",
       "diag_2                       0.000000\n",
       "diag_3                       0.000000\n",
       "number_diagnoses             0.000000\n",
       "max_glu_serum               94.746772\n",
       "A1Cresult                   83.277322\n",
       "metformin                    0.000000\n",
       "repaglinide                  0.000000\n",
       "nateglinide                  0.000000\n",
       "chlorpropamide               0.000000\n",
       "glimepiride                  0.000000\n",
       "acetohexamide                0.000000\n",
       "glipizide                    0.000000\n",
       "glyburide                    0.000000\n",
       "tolbutamide                  0.000000\n",
       "pioglitazone                 0.000000\n",
       "rosiglitazone                0.000000\n",
       "acarbose                     0.000000\n",
       "miglitol                     0.000000\n",
       "troglitazone                 0.000000\n",
       "tolazamide                   0.000000\n",
       "examide                      0.000000\n",
       "citoglipton                  0.000000\n",
       "insulin                      0.000000\n",
       "glyburide-metformin          0.000000\n",
       "glipizide-metformin          0.000000\n",
       "glimepiride-pioglitazone     0.000000\n",
       "metformin-rosiglitazone      0.000000\n",
       "metformin-pioglitazone       0.000000\n",
       "change                       0.000000\n",
       "diabetesMed                  0.000000\n",
       "readmitted                   0.000000\n",
       "dtype: float64"
      ]
     },
     "metadata": {},
     "output_type": "display_data"
    },
    {
     "name": "stdout",
     "output_type": "stream",
     "text": [
      "\n",
      "\n",
      "Duplicate Rows in Dataset:\n"
     ]
    },
    {
     "data": {
      "text/html": [
       "<style type=\"text/css\">\n",
       "</style>\n",
       "<table id=\"T_5ecf2\">\n",
       "  <thead>\n",
       "    <tr>\n",
       "      <th class=\"blank level0\" >&nbsp;</th>\n",
       "      <th id=\"T_5ecf2_level0_col0\" class=\"col_heading level0 col0\" >encounter_id</th>\n",
       "      <th id=\"T_5ecf2_level0_col1\" class=\"col_heading level0 col1\" >patient_nbr</th>\n",
       "      <th id=\"T_5ecf2_level0_col2\" class=\"col_heading level0 col2\" >race</th>\n",
       "      <th id=\"T_5ecf2_level0_col3\" class=\"col_heading level0 col3\" >gender</th>\n",
       "      <th id=\"T_5ecf2_level0_col4\" class=\"col_heading level0 col4\" >age</th>\n",
       "      <th id=\"T_5ecf2_level0_col5\" class=\"col_heading level0 col5\" >weight</th>\n",
       "      <th id=\"T_5ecf2_level0_col6\" class=\"col_heading level0 col6\" >admission_type_id</th>\n",
       "      <th id=\"T_5ecf2_level0_col7\" class=\"col_heading level0 col7\" >discharge_disposition_id</th>\n",
       "      <th id=\"T_5ecf2_level0_col8\" class=\"col_heading level0 col8\" >admission_source_id</th>\n",
       "      <th id=\"T_5ecf2_level0_col9\" class=\"col_heading level0 col9\" >time_in_hospital</th>\n",
       "      <th id=\"T_5ecf2_level0_col10\" class=\"col_heading level0 col10\" >payer_code</th>\n",
       "      <th id=\"T_5ecf2_level0_col11\" class=\"col_heading level0 col11\" >medical_specialty</th>\n",
       "      <th id=\"T_5ecf2_level0_col12\" class=\"col_heading level0 col12\" >num_lab_procedures</th>\n",
       "      <th id=\"T_5ecf2_level0_col13\" class=\"col_heading level0 col13\" >num_procedures</th>\n",
       "      <th id=\"T_5ecf2_level0_col14\" class=\"col_heading level0 col14\" >num_medications</th>\n",
       "      <th id=\"T_5ecf2_level0_col15\" class=\"col_heading level0 col15\" >number_outpatient</th>\n",
       "      <th id=\"T_5ecf2_level0_col16\" class=\"col_heading level0 col16\" >number_emergency</th>\n",
       "      <th id=\"T_5ecf2_level0_col17\" class=\"col_heading level0 col17\" >number_inpatient</th>\n",
       "      <th id=\"T_5ecf2_level0_col18\" class=\"col_heading level0 col18\" >diag_1</th>\n",
       "      <th id=\"T_5ecf2_level0_col19\" class=\"col_heading level0 col19\" >diag_2</th>\n",
       "      <th id=\"T_5ecf2_level0_col20\" class=\"col_heading level0 col20\" >diag_3</th>\n",
       "      <th id=\"T_5ecf2_level0_col21\" class=\"col_heading level0 col21\" >number_diagnoses</th>\n",
       "      <th id=\"T_5ecf2_level0_col22\" class=\"col_heading level0 col22\" >max_glu_serum</th>\n",
       "      <th id=\"T_5ecf2_level0_col23\" class=\"col_heading level0 col23\" >A1Cresult</th>\n",
       "      <th id=\"T_5ecf2_level0_col24\" class=\"col_heading level0 col24\" >metformin</th>\n",
       "      <th id=\"T_5ecf2_level0_col25\" class=\"col_heading level0 col25\" >repaglinide</th>\n",
       "      <th id=\"T_5ecf2_level0_col26\" class=\"col_heading level0 col26\" >nateglinide</th>\n",
       "      <th id=\"T_5ecf2_level0_col27\" class=\"col_heading level0 col27\" >chlorpropamide</th>\n",
       "      <th id=\"T_5ecf2_level0_col28\" class=\"col_heading level0 col28\" >glimepiride</th>\n",
       "      <th id=\"T_5ecf2_level0_col29\" class=\"col_heading level0 col29\" >acetohexamide</th>\n",
       "      <th id=\"T_5ecf2_level0_col30\" class=\"col_heading level0 col30\" >glipizide</th>\n",
       "      <th id=\"T_5ecf2_level0_col31\" class=\"col_heading level0 col31\" >glyburide</th>\n",
       "      <th id=\"T_5ecf2_level0_col32\" class=\"col_heading level0 col32\" >tolbutamide</th>\n",
       "      <th id=\"T_5ecf2_level0_col33\" class=\"col_heading level0 col33\" >pioglitazone</th>\n",
       "      <th id=\"T_5ecf2_level0_col34\" class=\"col_heading level0 col34\" >rosiglitazone</th>\n",
       "      <th id=\"T_5ecf2_level0_col35\" class=\"col_heading level0 col35\" >acarbose</th>\n",
       "      <th id=\"T_5ecf2_level0_col36\" class=\"col_heading level0 col36\" >miglitol</th>\n",
       "      <th id=\"T_5ecf2_level0_col37\" class=\"col_heading level0 col37\" >troglitazone</th>\n",
       "      <th id=\"T_5ecf2_level0_col38\" class=\"col_heading level0 col38\" >tolazamide</th>\n",
       "      <th id=\"T_5ecf2_level0_col39\" class=\"col_heading level0 col39\" >examide</th>\n",
       "      <th id=\"T_5ecf2_level0_col40\" class=\"col_heading level0 col40\" >citoglipton</th>\n",
       "      <th id=\"T_5ecf2_level0_col41\" class=\"col_heading level0 col41\" >insulin</th>\n",
       "      <th id=\"T_5ecf2_level0_col42\" class=\"col_heading level0 col42\" >glyburide-metformin</th>\n",
       "      <th id=\"T_5ecf2_level0_col43\" class=\"col_heading level0 col43\" >glipizide-metformin</th>\n",
       "      <th id=\"T_5ecf2_level0_col44\" class=\"col_heading level0 col44\" >glimepiride-pioglitazone</th>\n",
       "      <th id=\"T_5ecf2_level0_col45\" class=\"col_heading level0 col45\" >metformin-rosiglitazone</th>\n",
       "      <th id=\"T_5ecf2_level0_col46\" class=\"col_heading level0 col46\" >metformin-pioglitazone</th>\n",
       "      <th id=\"T_5ecf2_level0_col47\" class=\"col_heading level0 col47\" >change</th>\n",
       "      <th id=\"T_5ecf2_level0_col48\" class=\"col_heading level0 col48\" >diabetesMed</th>\n",
       "      <th id=\"T_5ecf2_level0_col49\" class=\"col_heading level0 col49\" >readmitted</th>\n",
       "    </tr>\n",
       "  </thead>\n",
       "  <tbody>\n",
       "  </tbody>\n",
       "</table>\n"
      ],
      "text/plain": [
       "<pandas.io.formats.style.Styler at 0x7f0e2625eb90>"
      ]
     },
     "metadata": {},
     "output_type": "display_data"
    }
   ],
   "source": [
    "SevenSigma(df)"
   ]
  },
  {
   "cell_type": "markdown",
   "id": "de4de5a2",
   "metadata": {
    "papermill": {
     "duration": 0.013275,
     "end_time": "2024-01-19T12:16:50.614148",
     "exception": false,
     "start_time": "2024-01-19T12:16:50.600873",
     "status": "completed"
    },
    "tags": []
   },
   "source": [
    "# Let's Handle Missing Values"
   ]
  },
  {
   "cell_type": "code",
   "execution_count": 6,
   "id": "a3d19f07",
   "metadata": {
    "execution": {
     "iopub.execute_input": "2024-01-19T12:16:50.642514Z",
     "iopub.status.busy": "2024-01-19T12:16:50.641779Z",
     "iopub.status.idle": "2024-01-19T12:16:50.681935Z",
     "shell.execute_reply": "2024-01-19T12:16:50.681212Z"
    },
    "papermill": {
     "duration": 0.05643,
     "end_time": "2024-01-19T12:16:50.683886",
     "exception": false,
     "start_time": "2024-01-19T12:16:50.627456",
     "status": "completed"
    },
    "tags": []
   },
   "outputs": [],
   "source": [
    "#max_glu_serum ,weight and A1Cresult has more than 85% null values so reoving it.\n",
    "# examide and citoglipton has only one value so also removing it.\n",
    "df.drop(columns=['max_glu_serum','A1Cresult','weight','citoglipton','examide','payer_code','medical_specialty'],inplace=True)"
   ]
  },
  {
   "cell_type": "code",
   "execution_count": 7,
   "id": "d1189a9a",
   "metadata": {
    "execution": {
     "iopub.execute_input": "2024-01-19T12:16:50.712262Z",
     "iopub.status.busy": "2024-01-19T12:16:50.711993Z",
     "iopub.status.idle": "2024-01-19T12:16:50.723604Z",
     "shell.execute_reply": "2024-01-19T12:16:50.722917Z"
    },
    "papermill": {
     "duration": 0.027242,
     "end_time": "2024-01-19T12:16:50.725127",
     "exception": false,
     "start_time": "2024-01-19T12:16:50.697885",
     "status": "completed"
    },
    "tags": []
   },
   "outputs": [
    {
     "data": {
      "text/plain": [
       "race\n",
       "Caucasian          76099\n",
       "AfricanAmerican    19210\n",
       "?                   2273\n",
       "Hispanic            2037\n",
       "Other               1506\n",
       "Asian                641\n",
       "Name: count, dtype: int64"
      ]
     },
     "execution_count": 7,
     "metadata": {},
     "output_type": "execute_result"
    }
   ],
   "source": [
    "df['race'].value_counts()"
   ]
  },
  {
   "cell_type": "code",
   "execution_count": 8,
   "id": "ed40273a",
   "metadata": {
    "execution": {
     "iopub.execute_input": "2024-01-19T12:16:50.753651Z",
     "iopub.status.busy": "2024-01-19T12:16:50.753132Z",
     "iopub.status.idle": "2024-01-19T12:16:50.774517Z",
     "shell.execute_reply": "2024-01-19T12:16:50.773931Z"
    },
    "papermill": {
     "duration": 0.037555,
     "end_time": "2024-01-19T12:16:50.776210",
     "exception": false,
     "start_time": "2024-01-19T12:16:50.738655",
     "status": "completed"
    },
    "tags": []
   },
   "outputs": [],
   "source": [
    "# replace any occurrences of '?' in the 'race' column with 'Other'.\n",
    "\n",
    "df['race'] = df['race'].apply(lambda x: 'Other' if x == '?' else x)"
   ]
  },
  {
   "cell_type": "code",
   "execution_count": 9,
   "id": "9995c56c",
   "metadata": {
    "execution": {
     "iopub.execute_input": "2024-01-19T12:16:50.848667Z",
     "iopub.status.busy": "2024-01-19T12:16:50.848330Z",
     "iopub.status.idle": "2024-01-19T12:16:50.903319Z",
     "shell.execute_reply": "2024-01-19T12:16:50.902393Z"
    },
    "papermill": {
     "duration": 0.071681,
     "end_time": "2024-01-19T12:16:50.905310",
     "exception": false,
     "start_time": "2024-01-19T12:16:50.833629",
     "status": "completed"
    },
    "tags": []
   },
   "outputs": [],
   "source": [
    "# removing rows with unkown gender type\n",
    "df.drop(index=[30506, 75551, 82573],inplace=True)"
   ]
  },
  {
   "cell_type": "code",
   "execution_count": 10,
   "id": "e560d2d9",
   "metadata": {
    "execution": {
     "iopub.execute_input": "2024-01-19T12:16:50.934781Z",
     "iopub.status.busy": "2024-01-19T12:16:50.934449Z",
     "iopub.status.idle": "2024-01-19T12:16:50.963581Z",
     "shell.execute_reply": "2024-01-19T12:16:50.962836Z"
    },
    "papermill": {
     "duration": 0.045858,
     "end_time": "2024-01-19T12:16:50.965384",
     "exception": false,
     "start_time": "2024-01-19T12:16:50.919526",
     "status": "completed"
    },
    "tags": []
   },
   "outputs": [],
   "source": [
    "# removing null values from diag_1,2 and 3.\n",
    "index=[]\n",
    "index=list(df[df['diag_1']=='?'].index)\n",
    "index.extend(df[df['diag_2']=='?'].index)\n",
    "index.extend(df[df['diag_3']=='?'].index)"
   ]
  },
  {
   "cell_type": "code",
   "execution_count": 11,
   "id": "d1e7c2d5",
   "metadata": {
    "execution": {
     "iopub.execute_input": "2024-01-19T12:16:50.995445Z",
     "iopub.status.busy": "2024-01-19T12:16:50.994593Z",
     "iopub.status.idle": "2024-01-19T12:16:51.050291Z",
     "shell.execute_reply": "2024-01-19T12:16:51.049380Z"
    },
    "papermill": {
     "duration": 0.072683,
     "end_time": "2024-01-19T12:16:51.052202",
     "exception": false,
     "start_time": "2024-01-19T12:16:50.979519",
     "status": "completed"
    },
    "tags": []
   },
   "outputs": [],
   "source": [
    "df.drop(index=index,inplace=True)"
   ]
  },
  {
   "cell_type": "markdown",
   "id": "36413c34",
   "metadata": {
    "papermill": {
     "duration": 0.014085,
     "end_time": "2024-01-19T12:16:51.080330",
     "exception": false,
     "start_time": "2024-01-19T12:16:51.066245",
     "status": "completed"
    },
    "tags": []
   },
   "source": [
    "# Feature Engineering"
   ]
  },
  {
   "cell_type": "code",
   "execution_count": 12,
   "id": "f25f409a",
   "metadata": {
    "execution": {
     "iopub.execute_input": "2024-01-19T12:16:51.108780Z",
     "iopub.status.busy": "2024-01-19T12:16:51.108428Z",
     "iopub.status.idle": "2024-01-19T12:16:51.113337Z",
     "shell.execute_reply": "2024-01-19T12:16:51.112635Z"
    },
    "papermill": {
     "duration": 0.021177,
     "end_time": "2024-01-19T12:16:51.115029",
     "exception": false,
     "start_time": "2024-01-19T12:16:51.093852",
     "status": "completed"
    },
    "tags": []
   },
   "outputs": [],
   "source": [
    "# This function, replace_age_ranges, takes a feature (presumably containing age ranges) as input and 'values' represents corresponding numerical values assigned to each age range.\n",
    "\n",
    "def replace_age_ranges(feature):\n",
    "  age_ranges = ['[0-10)', '[10-20)', '[20-30)', '[30-40)', '[40-50)', '[50-60)','[60-70)', '[70-80)', '[80-90)', '[90-100)']\n",
    "  values = [1, 2, 3, 4, 5, 6, 7, 8, 9, 10]\n",
    "  \n",
    "  # The function iterates through the age_ranges and replaces each occurrence in the 'feature' with the corresponding numerical value.\n",
    "  for i, age_range in enumerate(age_ranges):\n",
    "    feature = feature.replace(age_range, values[i])\n",
    "\n",
    "  return feature\n"
   ]
  },
  {
   "cell_type": "code",
   "execution_count": 13,
   "id": "1e23352c",
   "metadata": {
    "execution": {
     "iopub.execute_input": "2024-01-19T12:16:51.144095Z",
     "iopub.status.busy": "2024-01-19T12:16:51.143795Z",
     "iopub.status.idle": "2024-01-19T12:16:51.223342Z",
     "shell.execute_reply": "2024-01-19T12:16:51.222591Z"
    },
    "papermill": {
     "duration": 0.096407,
     "end_time": "2024-01-19T12:16:51.225249",
     "exception": false,
     "start_time": "2024-01-19T12:16:51.128842",
     "status": "completed"
    },
    "tags": []
   },
   "outputs": [],
   "source": [
    "df['age']=replace_age_ranges(df['age'])"
   ]
  },
  {
   "cell_type": "markdown",
   "id": "ad024bb2",
   "metadata": {
    "papermill": {
     "duration": 0.013111,
     "end_time": "2024-01-19T12:16:51.252349",
     "exception": false,
     "start_time": "2024-01-19T12:16:51.239238",
     "status": "completed"
    },
    "tags": []
   },
   "source": [
    "admission_type_id,description\n",
    "1,Emergency\n",
    "2,Urgent\n",
    "3,Elective\n",
    "4,Newborn\n",
    "5,Not Available\n",
    "6,NULL\n",
    "7,Trauma Center\n",
    "8,Not Mapped\n",
    ",\n",
    "discharge_disposition_id,description\n",
    "1,Discharged to home\n",
    "2,Discharged/transferred to another short term hospital\n",
    "3,Discharged/transferred to SNF\n",
    "4,Discharged/transferred to ICF\n",
    "5,Discharged/transferred to another type of inpatient care institution\n",
    "6,Discharged/transferred to home with home health service\n",
    "7,Left AMA\n",
    "8,Discharged/transferred to home under care of Home IV provider\n",
    "9,Admitted as an inpatient to this hospital\n",
    "10,Neonate discharged to another hospital for neonatal aftercare\n",
    "11,Expired\n",
    "12,Still patient or expected to return for outpatient services\n",
    "13,Hospice / home\n",
    "14,Hospice / medical facility\n",
    "15,Discharged/transferred within this institution to Medicare approved swing bed\n",
    "16,Discharged/transferred/referred another institution for outpatient services\n",
    "17,Discharged/transferred/referred to this institution for outpatient services\n",
    "18,NULL\n",
    "19,\"Expired at home. Medicaid only, hospice.\"\n",
    "20,\"Expired in a medical facility. Medicaid only, hospice.\"\n",
    "21,\"Expired, place unknown. Medicaid only, hospice.\"\n",
    "22,Discharged/transferred to another rehab fac including rehab units of a hospital .\n",
    "23,Discharged/transferred to a long term care hospital.\n",
    "24,Discharged/transferred to a nursing facility certified under Medicaid but not certified under Medicare.\n",
    "25,Not Mapped\n",
    "26,Unknown/Invalid\n",
    "30,Discharged/transferred to another Type of Health Care Institution not Defined Elsewhere\n",
    "27,Discharged/transferred to a federal health care facility.\n",
    "28,Discharged/transferred/referred to a psychiatric hospital of psychiatric distinct part unit of a hospital\n",
    "29,Discharged/transferred to a Critical Access Hospital (CAH).\n",
    ",\n",
    "admission_source_id,description\n",
    "1, Physician Referral\n",
    "2,Clinic Referral\n",
    "3,HMO Referral\n",
    "4,Transfer from a hospital\n",
    "5, Transfer from a Skilled Nursing Facility (SNF)\n",
    "6, Transfer from another health care facility\n",
    "7, Emergency Room\n",
    "8, Court/Law Enforcement\n",
    "9, Not Available\n",
    "10, Transfer from critial access hospital\n",
    "11,Normal Delivery\n",
    "12, Premature Delivery\n",
    "13, Sick Baby\n",
    "14, Extramural Birth\n",
    "15,Not Available\n",
    "17,NULL\n",
    "18, Transfer From Another Home Health Agency\n",
    "19,Readmission to Same Home Health Agency\n",
    "20, Not Mapped\n",
    "21,Unknown/Invalid\n",
    "22, Transfer from hospital inpt/same fac reslt in a sep claim\n",
    "23, Born inside this hospital\n",
    "24, Born outside this hospital\n",
    "25, Transfer from Ambulatory Surgery Center\n",
    "26,Transfer from Hospice\n"
   ]
  },
  {
   "cell_type": "markdown",
   "id": "4ddc45b6",
   "metadata": {
    "papermill": {
     "duration": 0.013146,
     "end_time": "2024-01-19T12:16:51.278800",
     "exception": false,
     "start_time": "2024-01-19T12:16:51.265654",
     "status": "completed"
    },
    "tags": []
   },
   "source": [
    "Based on the above mapping we have clusterd admission_type_id, discharge_disposition_id, admission_source_id that belong from simillar groups that helps in dimension reduction."
   ]
  },
  {
   "cell_type": "code",
   "execution_count": 14,
   "id": "5413b903",
   "metadata": {
    "execution": {
     "iopub.execute_input": "2024-01-19T12:16:51.307264Z",
     "iopub.status.busy": "2024-01-19T12:16:51.306974Z",
     "iopub.status.idle": "2024-01-19T12:16:51.375613Z",
     "shell.execute_reply": "2024-01-19T12:16:51.374739Z"
    },
    "papermill": {
     "duration": 0.085438,
     "end_time": "2024-01-19T12:16:51.377641",
     "exception": false,
     "start_time": "2024-01-19T12:16:51.292203",
     "status": "completed"
    },
    "tags": []
   },
   "outputs": [],
   "source": [
    "df['admission_type_id']=df['admission_type_id'].apply(lambda x : 5 if x in (6,8) else x)\n",
    "df['admission_type_id']=df['admission_type_id'].apply(lambda x : 1 if x == 4 else 2 if x==7 else x )"
   ]
  },
  {
   "cell_type": "code",
   "execution_count": 15,
   "id": "f75674a8",
   "metadata": {
    "execution": {
     "iopub.execute_input": "2024-01-19T12:16:51.406067Z",
     "iopub.status.busy": "2024-01-19T12:16:51.405790Z",
     "iopub.status.idle": "2024-01-19T12:16:51.629282Z",
     "shell.execute_reply": "2024-01-19T12:16:51.628384Z"
    },
    "papermill": {
     "duration": 0.239827,
     "end_time": "2024-01-19T12:16:51.631273",
     "exception": false,
     "start_time": "2024-01-19T12:16:51.391446",
     "status": "completed"
    },
    "tags": []
   },
   "outputs": [],
   "source": [
    "#Discharged Home: 1, 6, 8\n",
    "df['discharge_disposition_id']=df['discharge_disposition_id'].apply(lambda x : 1 if x in (6,8) else x)\n",
    "\n",
    "#Uncategorized/Unknown: 18, 25, 26, 12\n",
    "df['discharge_disposition_id']=df['discharge_disposition_id'].apply(lambda x : 18 if x in (25,26,12) else x)\n",
    "\n",
    "#Expired:11, 19, 20, 21\n",
    "df['discharge_disposition_id']=df['discharge_disposition_id'].apply(lambda x : 11 if x in (19,20,21) else x)\n",
    "\n",
    "#Hospice:13, 14\n",
    "df['discharge_disposition_id']=df['discharge_disposition_id'].apply(lambda x : 13 if x ==14 else x)\n",
    "\n",
    "# Discharged/Transferred to Hospital: 2, 9, 10, 23, 27, 28, 29\n",
    "df['discharge_disposition_id']=df['discharge_disposition_id'].apply(lambda x : 2 if x in ( 9, 10, 23, 27, 28, 29) else x)\n",
    "\n",
    "#Discharged/Transferred to Care Facility: 3, 4, 5, 15, 24\n",
    "df['discharge_disposition_id']=df['discharge_disposition_id'].apply(lambda x : 3 if x in ( 4, 5, 15, 24) else x)\n",
    "\n",
    "#Discharged to Outpatient Services:16, 17\n",
    "df['discharge_disposition_id']=df['discharge_disposition_id'].apply(lambda x : 16 if x ==17 else x)\n"
   ]
  },
  {
   "cell_type": "code",
   "execution_count": 16,
   "id": "dd9bc3ba",
   "metadata": {
    "execution": {
     "iopub.execute_input": "2024-01-19T12:16:51.659913Z",
     "iopub.status.busy": "2024-01-19T12:16:51.659606Z",
     "iopub.status.idle": "2024-01-19T12:16:51.821206Z",
     "shell.execute_reply": "2024-01-19T12:16:51.820305Z"
    },
    "papermill": {
     "duration": 0.178001,
     "end_time": "2024-01-19T12:16:51.823274",
     "exception": false,
     "start_time": "2024-01-19T12:16:51.645273",
     "status": "completed"
    },
    "tags": []
   },
   "outputs": [],
   "source": [
    "# Unknown/Invalid: 9, 15, 17, 20, 21\n",
    "df['admission_source_id']= df['admission_source_id'].apply(lambda x : 9 if x in (15, 17, 20, 21) else x)\n",
    "\n",
    "# Physician/Clinic Referral:1, 2, 3\n",
    "df['admission_source_id']= df['admission_source_id'].apply(lambda x : 1 if x in (2,3) else x)\n",
    "\n",
    "#Transfer from Hospital: 4, 10, 22\n",
    "df['admission_source_id']= df['admission_source_id'].apply(lambda x : 4 if x in (10,22) else x)\n",
    "\n",
    "\n",
    "#Transfer from Facility:5, 6, 18, 19, 25, 26\n",
    "df['admission_source_id']= df['admission_source_id'].apply(lambda x : 5 if x in (6, 18, 19, 25, 26) else x)\n",
    "\n",
    "#Delivery:11, 12, 13, 14\n",
    "df['admission_source_id']= df['admission_source_id'].apply(lambda x : 11 if x in (12, 13, 14) else x)\n"
   ]
  },
  {
   "cell_type": "code",
   "execution_count": 17,
   "id": "af7efa50",
   "metadata": {
    "execution": {
     "iopub.execute_input": "2024-01-19T12:16:51.852303Z",
     "iopub.status.busy": "2024-01-19T12:16:51.852019Z",
     "iopub.status.idle": "2024-01-19T12:16:51.855726Z",
     "shell.execute_reply": "2024-01-19T12:16:51.854939Z"
    },
    "papermill": {
     "duration": 0.019942,
     "end_time": "2024-01-19T12:16:51.857282",
     "exception": false,
     "start_time": "2024-01-19T12:16:51.837340",
     "status": "completed"
    },
    "tags": []
   },
   "outputs": [],
   "source": [
    "# all three diag features have more than 700 unqie we are grouping them based on ICD-9 codes\n",
    "diag1_list=[]\n",
    "diag2_list=[]\n",
    "diag3_list=[]"
   ]
  },
  {
   "cell_type": "code",
   "execution_count": 18,
   "id": "574d541a",
   "metadata": {
    "execution": {
     "iopub.execute_input": "2024-01-19T12:16:51.885973Z",
     "iopub.status.busy": "2024-01-19T12:16:51.885654Z",
     "iopub.status.idle": "2024-01-19T12:16:51.894158Z",
     "shell.execute_reply": "2024-01-19T12:16:51.893538Z"
    },
    "papermill": {
     "duration": 0.024668,
     "end_time": "2024-01-19T12:16:51.895750",
     "exception": false,
     "start_time": "2024-01-19T12:16:51.871082",
     "status": "completed"
    },
    "tags": []
   },
   "outputs": [],
   "source": [
    "# This function, diag_cluster, takes a column 'col' and a list 'diag_list' as inputs.\n",
    "# It iterates through each value in the 'col' column of the DataFrame 'df' and assigns a cluster value based on certain conditions.\n",
    "# The resulting cluster values are appended to the 'diag_list'.\n",
    "\n",
    "def diag_cluster(col, diag_list):\n",
    "    for x in df[col]:\n",
    "        # If the value in the 'col' column contains 'V' or 'E', it is assigned a cluster value of 18.\n",
    "        if 'V' in x or 'E' in x: \n",
    "            diag_list.append(18)\n",
    "            continue\n",
    "        # The following conditions assign cluster values based on specific ranges of float values.\n",
    "        elif 1 <= float(x) <= 139:\n",
    "            diag_list.append(1)\n",
    "        elif 140 <= float(x) <= 239:\n",
    "            diag_list.append(2)\n",
    "        elif 240 <= float(x) <= 279:\n",
    "            diag_list.append(3)\n",
    "        elif 280 <= float(x) <= 289:\n",
    "            diag_list.append(4)\n",
    "        elif 290 <= float(x) <= 319:\n",
    "            diag_list.append(5)\n",
    "        elif 320 <= float(x) <= 389:\n",
    "            diag_list.append(6)\n",
    "        elif 390 <= float(x) <= 459:\n",
    "            diag_list.append(7)\n",
    "        elif 460 <= float(x) <= 519:\n",
    "            diag_list.append(8)\n",
    "        elif 520 <= float(x) <= 579:\n",
    "            diag_list.append(9)\n",
    "        elif 580 <= float(x) <= 629:\n",
    "            diag_list.append(10)\n",
    "        elif 630 <= float(x) <= 679:\n",
    "            diag_list.append(11)\n",
    "        elif 680 <= float(x) <= 709:\n",
    "            diag_list.append(12)\n",
    "        elif 710 <= float(x) <= 739:\n",
    "            diag_list.append(13)\n",
    "        elif 740 <= float(x) <= 759:\n",
    "            diag_list.append(14)\n",
    "        elif 760 <= float(x) <= 779:\n",
    "            diag_list.append(15)\n",
    "        elif 780 <= float(x) <= 799:\n",
    "            diag_list.append(16)\n",
    "        elif 800 <= float(x) <= 999:\n",
    "            diag_list.append(17)\n"
   ]
  },
  {
   "cell_type": "code",
   "execution_count": 19,
   "id": "7a5c1160",
   "metadata": {
    "execution": {
     "iopub.execute_input": "2024-01-19T12:16:51.925009Z",
     "iopub.status.busy": "2024-01-19T12:16:51.924537Z",
     "iopub.status.idle": "2024-01-19T12:16:52.314201Z",
     "shell.execute_reply": "2024-01-19T12:16:52.312953Z"
    },
    "papermill": {
     "duration": 0.406944,
     "end_time": "2024-01-19T12:16:52.316663",
     "exception": false,
     "start_time": "2024-01-19T12:16:51.909719",
     "status": "completed"
    },
    "tags": []
   },
   "outputs": [],
   "source": [
    "diag_cluster('diag_1',diag1_list)\n",
    "diag_cluster('diag_2',diag2_list)\n",
    "diag_cluster('diag_3',diag3_list)"
   ]
  },
  {
   "cell_type": "code",
   "execution_count": 20,
   "id": "5fe42295",
   "metadata": {
    "execution": {
     "iopub.execute_input": "2024-01-19T12:16:52.354158Z",
     "iopub.status.busy": "2024-01-19T12:16:52.353864Z",
     "iopub.status.idle": "2024-01-19T12:16:52.415295Z",
     "shell.execute_reply": "2024-01-19T12:16:52.414396Z"
    },
    "papermill": {
     "duration": 0.083722,
     "end_time": "2024-01-19T12:16:52.418079",
     "exception": false,
     "start_time": "2024-01-19T12:16:52.334357",
     "status": "completed"
    },
    "tags": []
   },
   "outputs": [],
   "source": [
    "df['diag_1']=diag1_list\n",
    "df['diag_2']=diag2_list\n",
    "df['diag_3']=diag3_list"
   ]
  },
  {
   "cell_type": "code",
   "execution_count": 21,
   "id": "1ca1c0f0",
   "metadata": {
    "execution": {
     "iopub.execute_input": "2024-01-19T12:16:52.454500Z",
     "iopub.status.busy": "2024-01-19T12:16:52.453655Z",
     "iopub.status.idle": "2024-01-19T12:16:52.477589Z",
     "shell.execute_reply": "2024-01-19T12:16:52.476874Z"
    },
    "papermill": {
     "duration": 0.041256,
     "end_time": "2024-01-19T12:16:52.479186",
     "exception": false,
     "start_time": "2024-01-19T12:16:52.437930",
     "status": "completed"
    },
    "tags": []
   },
   "outputs": [],
   "source": [
    "df['change']=df['change'].apply(lambda x: 'Yes' if x=='Ch' else x)"
   ]
  },
  {
   "cell_type": "markdown",
   "id": "cd6de776",
   "metadata": {
    "papermill": {
     "duration": 0.013311,
     "end_time": "2024-01-19T12:16:52.506219",
     "exception": false,
     "start_time": "2024-01-19T12:16:52.492908",
     "status": "completed"
    },
    "tags": []
   },
   "source": [
    "# Encoding Categorical Features"
   ]
  },
  {
   "cell_type": "code",
   "execution_count": 22,
   "id": "82cd17e9",
   "metadata": {
    "execution": {
     "iopub.execute_input": "2024-01-19T12:16:52.536194Z",
     "iopub.status.busy": "2024-01-19T12:16:52.535757Z",
     "iopub.status.idle": "2024-01-19T12:16:53.173989Z",
     "shell.execute_reply": "2024-01-19T12:16:53.173064Z"
    },
    "papermill": {
     "duration": 0.655065,
     "end_time": "2024-01-19T12:16:53.176165",
     "exception": false,
     "start_time": "2024-01-19T12:16:52.521100",
     "status": "completed"
    },
    "tags": []
   },
   "outputs": [],
   "source": [
    "# Iterating through each medicine column and converting 'No' to 0 and other values to 1.\n",
    "\n",
    "medicines = ['metformin', 'repaglinide', 'nateglinide', 'chlorpropamide', 'glimepiride', 'acetohexamide', 'glipizide', 'glyburide', 'tolbutamide', 'pioglitazone', 'rosiglitazone', 'acarbose', 'miglitol', 'troglitazone', 'tolazamide', 'insulin', 'glyburide-metformin', 'glipizide-metformin', 'glimepiride-pioglitazone', 'metformin-rosiglitazone', 'metformin-pioglitazone']\n",
    "\n",
    "for col in medicines:\n",
    "    df[col] = df[col].apply(lambda x: 0 if x == 'No' else 1)"
   ]
  },
  {
   "cell_type": "code",
   "execution_count": 23,
   "id": "8f980551",
   "metadata": {
    "execution": {
     "iopub.execute_input": "2024-01-19T12:16:53.205075Z",
     "iopub.status.busy": "2024-01-19T12:16:53.204774Z",
     "iopub.status.idle": "2024-01-19T12:16:53.246596Z",
     "shell.execute_reply": "2024-01-19T12:16:53.245890Z"
    },
    "papermill": {
     "duration": 0.058045,
     "end_time": "2024-01-19T12:16:53.248337",
     "exception": false,
     "start_time": "2024-01-19T12:16:53.190292",
     "status": "completed"
    },
    "tags": []
   },
   "outputs": [],
   "source": [
    "df['gender']=df['change'].apply(lambda x: 0 if x=='Female' else 1)"
   ]
  },
  {
   "cell_type": "code",
   "execution_count": 24,
   "id": "32b7b580",
   "metadata": {
    "execution": {
     "iopub.execute_input": "2024-01-19T12:16:53.276832Z",
     "iopub.status.busy": "2024-01-19T12:16:53.276362Z",
     "iopub.status.idle": "2024-01-19T12:16:53.341992Z",
     "shell.execute_reply": "2024-01-19T12:16:53.341128Z"
    },
    "papermill": {
     "duration": 0.082065,
     "end_time": "2024-01-19T12:16:53.344065",
     "exception": false,
     "start_time": "2024-01-19T12:16:53.262000",
     "status": "completed"
    },
    "tags": []
   },
   "outputs": [],
   "source": [
    "df['change']=df['change'].apply(lambda x : 0 if x=='No' else 1)\n",
    "df['diabetesMed']=df['diabetesMed'].apply(lambda x : 0 if x=='No' else 1)"
   ]
  },
  {
   "cell_type": "code",
   "execution_count": 25,
   "id": "df2e6815",
   "metadata": {
    "execution": {
     "iopub.execute_input": "2024-01-19T12:16:53.374408Z",
     "iopub.status.busy": "2024-01-19T12:16:53.374106Z",
     "iopub.status.idle": "2024-01-19T12:16:53.417470Z",
     "shell.execute_reply": "2024-01-19T12:16:53.416594Z"
    },
    "papermill": {
     "duration": 0.059958,
     "end_time": "2024-01-19T12:16:53.419299",
     "exception": false,
     "start_time": "2024-01-19T12:16:53.359341",
     "status": "completed"
    },
    "tags": []
   },
   "outputs": [],
   "source": [
    "df['readmitted']=df['readmitted'].apply(lambda x : 1 if x=='<30' else 0)"
   ]
  },
  {
   "cell_type": "code",
   "execution_count": 26,
   "id": "97b79d3c",
   "metadata": {
    "execution": {
     "iopub.execute_input": "2024-01-19T12:16:53.450180Z",
     "iopub.status.busy": "2024-01-19T12:16:53.449795Z",
     "iopub.status.idle": "2024-01-19T12:16:53.469594Z",
     "shell.execute_reply": "2024-01-19T12:16:53.468722Z"
    },
    "papermill": {
     "duration": 0.037071,
     "end_time": "2024-01-19T12:16:53.471250",
     "exception": false,
     "start_time": "2024-01-19T12:16:53.434179",
     "status": "completed"
    },
    "tags": []
   },
   "outputs": [],
   "source": [
    "# we have found that there are many entries of some users in dataset it will make our ML algorithm biased so removing them.\n",
    "df.drop_duplicates(subset='patient_nbr',keep='first',inplace=True)"
   ]
  },
  {
   "cell_type": "code",
   "execution_count": 27,
   "id": "c55a49cd",
   "metadata": {
    "execution": {
     "iopub.execute_input": "2024-01-19T12:16:53.499314Z",
     "iopub.status.busy": "2024-01-19T12:16:53.499035Z",
     "iopub.status.idle": "2024-01-19T12:16:53.513213Z",
     "shell.execute_reply": "2024-01-19T12:16:53.512407Z"
    },
    "papermill": {
     "duration": 0.029761,
     "end_time": "2024-01-19T12:16:53.514674",
     "exception": false,
     "start_time": "2024-01-19T12:16:53.484913",
     "status": "completed"
    },
    "tags": []
   },
   "outputs": [],
   "source": [
    "df.drop(columns=['encounter_id','patient_nbr'],inplace=True)"
   ]
  },
  {
   "cell_type": "code",
   "execution_count": 28,
   "id": "b6fdae73",
   "metadata": {
    "execution": {
     "iopub.execute_input": "2024-01-19T12:16:53.542614Z",
     "iopub.status.busy": "2024-01-19T12:16:53.542332Z",
     "iopub.status.idle": "2024-01-19T12:16:53.665037Z",
     "shell.execute_reply": "2024-01-19T12:16:53.664156Z"
    },
    "papermill": {
     "duration": 0.138995,
     "end_time": "2024-01-19T12:16:53.667039",
     "exception": false,
     "start_time": "2024-01-19T12:16:53.528044",
     "status": "completed"
    },
    "tags": []
   },
   "outputs": [],
   "source": [
    "# used label encoder for race feature.\n",
    "from sklearn.preprocessing import LabelEncoder\n",
    "encoder=LabelEncoder()\n",
    "df['race']=encoder.fit_transform(df['race'])"
   ]
  },
  {
   "cell_type": "markdown",
   "id": "c0792693",
   "metadata": {
    "papermill": {
     "duration": 0.013072,
     "end_time": "2024-01-19T12:16:53.693896",
     "exception": false,
     "start_time": "2024-01-19T12:16:53.680824",
     "status": "completed"
    },
    "tags": []
   },
   "source": [
    "# Model Building"
   ]
  },
  {
   "cell_type": "code",
   "execution_count": 29,
   "id": "df8ea67b",
   "metadata": {
    "execution": {
     "iopub.execute_input": "2024-01-19T12:16:53.722106Z",
     "iopub.status.busy": "2024-01-19T12:16:53.721801Z",
     "iopub.status.idle": "2024-01-19T12:16:53.726917Z",
     "shell.execute_reply": "2024-01-19T12:16:53.726148Z"
    },
    "papermill": {
     "duration": 0.021143,
     "end_time": "2024-01-19T12:16:53.728341",
     "exception": false,
     "start_time": "2024-01-19T12:16:53.707198",
     "status": "completed"
    },
    "tags": []
   },
   "outputs": [
    {
     "data": {
      "text/plain": [
       "\"X=df.drop(columns='readmitted')\\ny=df['readmitted']\""
      ]
     },
     "execution_count": 29,
     "metadata": {},
     "output_type": "execute_result"
    }
   ],
   "source": [
    "'''X=df.drop(columns='readmitted')\n",
    "y=df['readmitted']'''"
   ]
  },
  {
   "cell_type": "code",
   "execution_count": 30,
   "id": "fe96cae2",
   "metadata": {
    "execution": {
     "iopub.execute_input": "2024-01-19T12:16:53.756828Z",
     "iopub.status.busy": "2024-01-19T12:16:53.756527Z",
     "iopub.status.idle": "2024-01-19T12:16:53.767528Z",
     "shell.execute_reply": "2024-01-19T12:16:53.766823Z"
    },
    "papermill": {
     "duration": 0.027052,
     "end_time": "2024-01-19T12:16:53.768992",
     "exception": false,
     "start_time": "2024-01-19T12:16:53.741940",
     "status": "completed"
    },
    "tags": []
   },
   "outputs": [],
   "source": [
    "X=df[['num_lab_procedures', 'num_medications', 'diag_3', 'diag_1', 'age',\n",
    "       'diag_2', 'time_in_hospital', 'number_diagnoses', 'num_procedures',\n",
    "       'admission_source_id', 'race', 'admission_type_id',\n",
    "       'discharge_disposition_id', 'insulin', 'diabetesMed', 'change',\n",
    "       'metformin', 'glipizide', 'number_outpatient', 'glyburide',\n",
    "       'rosiglitazone', 'pioglitazone', 'number_inpatient', 'glimepiride',\n",
    "       'number_emergency']]\n",
    "y=df['readmitted']"
   ]
  },
  {
   "cell_type": "code",
   "execution_count": 31,
   "id": "0bbcc9fd",
   "metadata": {
    "execution": {
     "iopub.execute_input": "2024-01-19T12:16:53.797604Z",
     "iopub.status.busy": "2024-01-19T12:16:53.797131Z",
     "iopub.status.idle": "2024-01-19T12:16:54.769981Z",
     "shell.execute_reply": "2024-01-19T12:16:54.769389Z"
    },
    "papermill": {
     "duration": 0.988729,
     "end_time": "2024-01-19T12:16:54.771530",
     "exception": false,
     "start_time": "2024-01-19T12:16:53.782801",
     "status": "completed"
    },
    "tags": []
   },
   "outputs": [
    {
     "name": "stdout",
     "output_type": "stream",
     "text": [
      "CPU times: user 727 ms, sys: 441 ms, total: 1.17 s\n",
      "Wall time: 968 ms\n"
     ]
    }
   ],
   "source": [
    "%%time\n",
    "# dataset is higly imbalanced so using SMOTE method oversampling the minority class\n",
    "\n",
    "from collections import Counter  \n",
    "\n",
    "from imblearn.over_sampling import SMOTE\n",
    "\n",
    "sm=SMOTE(sampling_strategy='minority',random_state=42,n_jobs=-1)\n",
    "\n",
    "X_res, y_res = sm.fit_resample(X, y)"
   ]
  },
  {
   "cell_type": "code",
   "execution_count": 32,
   "id": "102d4d05",
   "metadata": {
    "execution": {
     "iopub.execute_input": "2024-01-19T12:16:54.800766Z",
     "iopub.status.busy": "2024-01-19T12:16:54.800124Z",
     "iopub.status.idle": "2024-01-19T12:16:54.805167Z",
     "shell.execute_reply": "2024-01-19T12:16:54.804169Z"
    },
    "papermill": {
     "duration": 0.021344,
     "end_time": "2024-01-19T12:16:54.806764",
     "exception": false,
     "start_time": "2024-01-19T12:16:54.785420",
     "status": "completed"
    },
    "tags": []
   },
   "outputs": [
    {
     "data": {
      "text/plain": [
       "'from sklearn.model_selection import train_test_split\\nX_train, X_test, y_train, y_test = train_test_split(X, y, test_size=0.25, random_state=42)\\n'"
      ]
     },
     "execution_count": 32,
     "metadata": {},
     "output_type": "execute_result"
    }
   ],
   "source": [
    "'''from sklearn.model_selection import train_test_split\n",
    "X_train, X_test, y_train, y_test = train_test_split(X, y, test_size=0.25, random_state=42)\n",
    "'''"
   ]
  },
  {
   "cell_type": "code",
   "execution_count": 33,
   "id": "69b39b7e",
   "metadata": {
    "execution": {
     "iopub.execute_input": "2024-01-19T12:16:54.835173Z",
     "iopub.status.busy": "2024-01-19T12:16:54.834885Z",
     "iopub.status.idle": "2024-01-19T12:16:54.878660Z",
     "shell.execute_reply": "2024-01-19T12:16:54.877807Z"
    },
    "papermill": {
     "duration": 0.06017,
     "end_time": "2024-01-19T12:16:54.880588",
     "exception": false,
     "start_time": "2024-01-19T12:16:54.820418",
     "status": "completed"
    },
    "tags": []
   },
   "outputs": [],
   "source": [
    "from sklearn.model_selection import train_test_split\n",
    "X_train, X_test, y_train, y_test = train_test_split(X_res, y_res, test_size=0.25, random_state=42)"
   ]
  },
  {
   "cell_type": "code",
   "execution_count": 34,
   "id": "b09d7370",
   "metadata": {
    "execution": {
     "iopub.execute_input": "2024-01-19T12:16:54.910076Z",
     "iopub.status.busy": "2024-01-19T12:16:54.909568Z",
     "iopub.status.idle": "2024-01-19T12:16:56.170265Z",
     "shell.execute_reply": "2024-01-19T12:16:56.169322Z"
    },
    "papermill": {
     "duration": 1.277656,
     "end_time": "2024-01-19T12:16:56.172315",
     "exception": false,
     "start_time": "2024-01-19T12:16:54.894659",
     "status": "completed"
    },
    "tags": []
   },
   "outputs": [],
   "source": [
    "#  hyperparameters tunning using optuna\n",
    "from sklearn.metrics import f1_score\n",
    "import optuna\n",
    "from optuna.samplers import TPESampler\n",
    "import catboost\n",
    "def objective(trial):\n",
    "    model = catboost.CatBoostClassifier(\n",
    "        iterations=trial.suggest_int(\"iterations\", 100, 1000),\n",
    "        learning_rate=trial.suggest_float(\"learning_rate\", 1e-3, 1e-1, log=True),\n",
    "        depth=trial.suggest_int(\"depth\", 4, 10),\n",
    "        boosting_type= trial.suggest_categorical(\"boosting_type\", [\"Ordered\", \"Plain\"]),\n",
    "        bootstrap_type=trial.suggest_categorical(\n",
    "            \"bootstrap_type\", [\"Bayesian\", \"MVS\"]\n",
    "        ),\n",
    "        l2_leaf_reg=trial.suggest_float(\"l2_leaf_reg\", 1e-8, 100.0, log=True),\n",
    "        #bootstrap_type=trial.suggest_categorical(\"bootstrap_type\", [\"Bayesian\"]),\n",
    "        random_strength=trial.suggest_float(\"random_strength\", 1e-8, 10.0, log=True),\n",
    "        bagging_temperature=trial.suggest_float(\"bagging_temperature\", 0.0, 10.0),\n",
    "        od_type=trial.suggest_categorical(\"od_type\", [\"IncToDec\", \"Iter\"]),\n",
    "        od_wait=trial.suggest_int(\"od_wait\", 10, 50),\n",
    "        #max_leaves=trial.suggest_int(\"max_leaves\",15,40),\n",
    "        min_data_in_leaf=trial.suggest_int(\"min_data_in_leaf\",51,120),\n",
    "        loss_function='Logloss',\n",
    "        eval_metric='Logloss',\n",
    "        task_type='GPU',\n",
    "        verbose=False,\n",
    "    )\n",
    "    model.fit(X_train, y_train,eval_set=[(X_test,y_test)])\n",
    "    y_pred = model.predict(X_test)\n",
    "    return f1_score(y_test, y_pred,average='micro')"
   ]
  },
  {
   "cell_type": "code",
   "execution_count": 35,
   "id": "d180d6b5",
   "metadata": {
    "execution": {
     "iopub.execute_input": "2024-01-19T12:16:56.201494Z",
     "iopub.status.busy": "2024-01-19T12:16:56.201188Z",
     "iopub.status.idle": "2024-01-19T12:16:56.206468Z",
     "shell.execute_reply": "2024-01-19T12:16:56.205725Z"
    },
    "papermill": {
     "duration": 0.021462,
     "end_time": "2024-01-19T12:16:56.207986",
     "exception": false,
     "start_time": "2024-01-19T12:16:56.186524",
     "status": "completed"
    },
    "tags": []
   },
   "outputs": [
    {
     "data": {
      "text/plain": [
       "'%%time\\n\\noptuna.logging.set_verbosity(optuna.logging.WARNING)\\n\\n\\nsampler = TPESampler(seed=1)\\nstudy = optuna.create_study(study_name=\"catboost\", direction=\"maximize\", sampler=sampler)\\nstudy.optimize(objective, n_trials=31)'"
      ]
     },
     "execution_count": 35,
     "metadata": {},
     "output_type": "execute_result"
    }
   ],
   "source": [
    "'''%%time\n",
    "\n",
    "optuna.logging.set_verbosity(optuna.logging.WARNING)\n",
    "\n",
    "\n",
    "sampler = TPESampler(seed=1)\n",
    "study = optuna.create_study(study_name=\"catboost\", direction=\"maximize\", sampler=sampler)\n",
    "study.optimize(objective, n_trials=31)'''"
   ]
  },
  {
   "cell_type": "code",
   "execution_count": 36,
   "id": "32e6cce0",
   "metadata": {
    "execution": {
     "iopub.execute_input": "2024-01-19T12:16:56.237043Z",
     "iopub.status.busy": "2024-01-19T12:16:56.236754Z",
     "iopub.status.idle": "2024-01-19T12:16:56.241921Z",
     "shell.execute_reply": "2024-01-19T12:16:56.241097Z"
    },
    "papermill": {
     "duration": 0.02164,
     "end_time": "2024-01-19T12:16:56.243427",
     "exception": false,
     "start_time": "2024-01-19T12:16:56.221787",
     "status": "completed"
    },
    "tags": []
   },
   "outputs": [
    {
     "data": {
      "text/plain": [
       "'print(\"Number of finished trials: \", len(study.trials))\\nprint(\"Best trial:\")\\ntrial = study.best_trial\\nprint(\"  Value: \", trial.value)\\nprint(\"  Params: \")\\nfor key, value in trial.params.items():\\n    print(\"    {}: {}\".format(key, value))'"
      ]
     },
     "execution_count": 36,
     "metadata": {},
     "output_type": "execute_result"
    }
   ],
   "source": [
    "'''print(\"Number of finished trials: \", len(study.trials))\n",
    "print(\"Best trial:\")\n",
    "trial = study.best_trial\n",
    "print(\"  Value: \", trial.value)\n",
    "print(\"  Params: \")\n",
    "for key, value in trial.params.items():\n",
    "    print(\"    {}: {}\".format(key, value))'''"
   ]
  },
  {
   "cell_type": "code",
   "execution_count": 37,
   "id": "a598ae65",
   "metadata": {
    "execution": {
     "iopub.execute_input": "2024-01-19T12:16:56.272775Z",
     "iopub.status.busy": "2024-01-19T12:16:56.272447Z",
     "iopub.status.idle": "2024-01-19T12:16:56.277424Z",
     "shell.execute_reply": "2024-01-19T12:16:56.276649Z"
    },
    "papermill": {
     "duration": 0.021285,
     "end_time": "2024-01-19T12:16:56.278984",
     "exception": false,
     "start_time": "2024-01-19T12:16:56.257699",
     "status": "completed"
    },
    "tags": []
   },
   "outputs": [
    {
     "data": {
      "text/plain": [
       "'fig = optuna.visualization.plot_param_importances(study)\\nfig.show()'"
      ]
     },
     "execution_count": 37,
     "metadata": {},
     "output_type": "execute_result"
    }
   ],
   "source": [
    "'''fig = optuna.visualization.plot_param_importances(study)\n",
    "fig.show()'''"
   ]
  },
  {
   "cell_type": "code",
   "execution_count": 38,
   "id": "3b17053c",
   "metadata": {
    "execution": {
     "iopub.execute_input": "2024-01-19T12:16:56.308191Z",
     "iopub.status.busy": "2024-01-19T12:16:56.307917Z",
     "iopub.status.idle": "2024-01-19T12:16:56.312969Z",
     "shell.execute_reply": "2024-01-19T12:16:56.312255Z"
    },
    "papermill": {
     "duration": 0.021373,
     "end_time": "2024-01-19T12:16:56.314497",
     "exception": false,
     "start_time": "2024-01-19T12:16:56.293124",
     "status": "completed"
    },
    "tags": []
   },
   "outputs": [
    {
     "data": {
      "text/plain": [
       "'study.best_trial'"
      ]
     },
     "execution_count": 38,
     "metadata": {},
     "output_type": "execute_result"
    }
   ],
   "source": [
    "'''study.best_trial'''"
   ]
  },
  {
   "cell_type": "code",
   "execution_count": 39,
   "id": "7efa3bb8",
   "metadata": {
    "execution": {
     "iopub.execute_input": "2024-01-19T12:16:56.344465Z",
     "iopub.status.busy": "2024-01-19T12:16:56.343887Z",
     "iopub.status.idle": "2024-01-19T12:16:56.349335Z",
     "shell.execute_reply": "2024-01-19T12:16:56.348612Z"
    },
    "papermill": {
     "duration": 0.022106,
     "end_time": "2024-01-19T12:16:56.350776",
     "exception": false,
     "start_time": "2024-01-19T12:16:56.328670",
     "status": "completed"
    },
    "tags": []
   },
   "outputs": [],
   "source": [
    "#params={'iterations': 513, 'learning_rate': 0.0397842000536864, 'depth': 7, 'l2_leaf_reg': 0.05206518524157017, 'bootstrap_type': 'Bayesian', 'random_strength': 4.6530700573768906e-07, 'bagging_temperature': 0.1394386439385641, 'od_type': 'IncToDec', 'od_wait': 30}\n",
    "#params={'iterations': 810, 'learning_rate': 0.02656293600669053, 'depth': 5, 'l2_leaf_reg': 0.28259770270974677, 'bootstrap_type': 'Bayesian', 'random_strength': 3.002070542128706e-05, 'bagging_temperature': 0.7065794059168207, 'od_type': 'IncToDec', 'od_wait': 28}\n",
    "#params={'iterations': 471, 'learning_rate': 0.0766629782215195, 'depth': 8, 'l2_leaf_reg': 0.0009941919255431284, 'bootstrap_type': 'Bayesian', 'random_strength': 1.0067486415831434e-08, 'bagging_temperature': 0.4183095348176672, 'od_type': 'Iter', 'od_wait': 45}\n",
    "#params={'iterations': 226, 'learning_rate': 0.002490020818620744, 'depth': 9, 'l2_leaf_reg': 48.15215820395775, 'bootstrap_type': 'Bayesian', 'random_strength': 6.6193844201488494e-06, 'bagging_temperature': 6.923226156693141, 'od_type': 'Iter', 'od_wait': 13}\n",
    "# over sampled full features\n",
    "#params={'iterations': 899, 'learning_rate': 0.06966733523156289, 'depth': 9, 'l2_leaf_reg': 8.071917904799597e-08, 'bootstrap_type': 'Bayesian', 'random_strength': 0.001980689035613274, 'bagging_temperature': 5.000998021136371, 'od_type': 'IncToDec', 'od_wait': 17}\n",
    "# over sampled \n",
    "params={'iterations': 881, 'learning_rate': 0.01961057467284439, 'depth': 10, 'l2_leaf_reg': 0.0026174150623770134, 'bootstrap_type': 'Bayesian', 'random_strength': 2.191236365450965e-06, 'bagging_temperature': 5.6475486877966965, 'od_type': 'IncToDec', 'od_wait': 42}\n",
    "\n",
    "#params={'iterations': 813, 'learning_rate': 0.09425433483853037, 'depth': 10, 'l2_leaf_reg': 0.00025117779012403147, 'bootstrap_type': 'Bayesian', 'random_strength': 5.2681683837260795, 'bagging_temperature': 9.466232535470276, 'od_type': 'Iter', 'od_wait': 22, 'min_data_in_leaf': 83}\n",
    "\n",
    "#params={'iterations': 203, 'learning_rate': 0.0792462129989754, 'depth': 7, 'l2_leaf_reg': 0.006079895907372734, 'bootstrap_type': 'Bayesian', 'random_strength': 4.712281485061178e-05, 'bagging_temperature': 2.3702698024302773, 'od_type': 'IncToDec', 'od_wait': 10, 'min_data_in_leaf': 94}\n",
    "\n",
    "#params={'iterations': 505, 'learning_rate': 0.02782150749600363, 'depth': 4, 'l2_leaf_reg': 0.134465926211342, 'bootstrap_type': 'Bayesian', 'random_strength': 1.0352167279068568e-07, 'bagging_temperature': 1.043841134968342, 'od_type': 'Iter', 'od_wait': 29, 'min_data_in_leaf': 88}\n",
    "\n",
    "\n",
    "#params={'iterations': 475, 'learning_rate': 0.027583475549166746, 'depth': 4, 'boosting_type': 'Ordered', 'bootstrap_type': 'MVS', 'l2_leaf_reg': 2.855007611568483e-05, 'random_strength': 3.72312200494449e-05, 'bagging_temperature': 5.3881673400335695, 'od_type': 'Iter', 'od_wait': 18, 'min_data_in_leaf': 112}"
   ]
  },
  {
   "cell_type": "code",
   "execution_count": 40,
   "id": "296000e2",
   "metadata": {
    "execution": {
     "iopub.execute_input": "2024-01-19T12:16:56.381864Z",
     "iopub.status.busy": "2024-01-19T12:16:56.381531Z",
     "iopub.status.idle": "2024-01-19T12:16:56.387675Z",
     "shell.execute_reply": "2024-01-19T12:16:56.386893Z"
    },
    "papermill": {
     "duration": 0.022537,
     "end_time": "2024-01-19T12:16:56.389107",
     "exception": false,
     "start_time": "2024-01-19T12:16:56.366570",
     "status": "completed"
    },
    "tags": []
   },
   "outputs": [],
   "source": [
    "model=catboost.CatBoostClassifier(**params,verbose=False)"
   ]
  },
  {
   "cell_type": "code",
   "execution_count": 41,
   "id": "65f239f8",
   "metadata": {
    "execution": {
     "iopub.execute_input": "2024-01-19T12:16:56.418347Z",
     "iopub.status.busy": "2024-01-19T12:16:56.418057Z",
     "iopub.status.idle": "2024-01-19T12:17:41.759345Z",
     "shell.execute_reply": "2024-01-19T12:17:41.758740Z"
    },
    "papermill": {
     "duration": 45.377096,
     "end_time": "2024-01-19T12:17:41.780233",
     "exception": false,
     "start_time": "2024-01-19T12:16:56.403137",
     "status": "completed"
    },
    "tags": []
   },
   "outputs": [
    {
     "data": {
      "text/plain": [
       "<catboost.core.CatBoostClassifier at 0x7f0e1d3bf3a0>"
      ]
     },
     "execution_count": 41,
     "metadata": {},
     "output_type": "execute_result"
    }
   ],
   "source": [
    "model.fit(X_train,y_train)"
   ]
  },
  {
   "cell_type": "code",
   "execution_count": 42,
   "id": "64c14a2f",
   "metadata": {
    "execution": {
     "iopub.execute_input": "2024-01-19T12:17:41.811182Z",
     "iopub.status.busy": "2024-01-19T12:17:41.810234Z",
     "iopub.status.idle": "2024-01-19T12:17:41.869462Z",
     "shell.execute_reply": "2024-01-19T12:17:41.868239Z"
    },
    "papermill": {
     "duration": 0.076856,
     "end_time": "2024-01-19T12:17:41.871666",
     "exception": false,
     "start_time": "2024-01-19T12:17:41.794810",
     "status": "completed"
    },
    "tags": []
   },
   "outputs": [],
   "source": [
    "probs=model.predict_proba(X_test)"
   ]
  },
  {
   "cell_type": "code",
   "execution_count": 43,
   "id": "f5c1193f",
   "metadata": {
    "execution": {
     "iopub.execute_input": "2024-01-19T12:17:41.906579Z",
     "iopub.status.busy": "2024-01-19T12:17:41.906261Z",
     "iopub.status.idle": "2024-01-19T12:17:41.967269Z",
     "shell.execute_reply": "2024-01-19T12:17:41.966369Z"
    },
    "papermill": {
     "duration": 0.079063,
     "end_time": "2024-01-19T12:17:41.969409",
     "exception": false,
     "start_time": "2024-01-19T12:17:41.890346",
     "status": "completed"
    },
    "tags": []
   },
   "outputs": [],
   "source": [
    "y_pred=model.predict(X_test)"
   ]
  },
  {
   "cell_type": "code",
   "execution_count": 44,
   "id": "228f91f2",
   "metadata": {
    "execution": {
     "iopub.execute_input": "2024-01-19T12:17:42.000317Z",
     "iopub.status.busy": "2024-01-19T12:17:41.999729Z",
     "iopub.status.idle": "2024-01-19T12:17:42.044652Z",
     "shell.execute_reply": "2024-01-19T12:17:42.043742Z"
    },
    "papermill": {
     "duration": 0.062675,
     "end_time": "2024-01-19T12:17:42.047005",
     "exception": false,
     "start_time": "2024-01-19T12:17:41.984330",
     "status": "completed"
    },
    "tags": []
   },
   "outputs": [
    {
     "name": "stdout",
     "output_type": "stream",
     "text": [
      "              precision    recall  f1-score   support\n",
      "\n",
      "           0       0.90      0.86      0.88     16200\n",
      "           1       0.86      0.90      0.88     15882\n",
      "\n",
      "    accuracy                           0.88     32082\n",
      "   macro avg       0.88      0.88      0.88     32082\n",
      "weighted avg       0.88      0.88      0.88     32082\n",
      "\n"
     ]
    }
   ],
   "source": [
    "from sklearn.metrics import classification_report\n",
    "print(classification_report(y_test, y_pred))"
   ]
  },
  {
   "cell_type": "code",
   "execution_count": null,
   "id": "d297cb55",
   "metadata": {
    "papermill": {
     "duration": 0.014239,
     "end_time": "2024-01-19T12:17:42.103798",
     "exception": false,
     "start_time": "2024-01-19T12:17:42.089559",
     "status": "completed"
    },
    "tags": []
   },
   "outputs": [],
   "source": []
  }
 ],
 "metadata": {
  "kaggle": {
   "accelerator": "none",
   "dataSources": [
    {
     "datasetId": 3724,
     "sourceId": 5903,
     "sourceType": "datasetVersion"
    }
   ],
   "dockerImageVersionId": 30635,
   "isGpuEnabled": false,
   "isInternetEnabled": true,
   "language": "python",
   "sourceType": "notebook"
  },
  "kernelspec": {
   "display_name": "Python 3",
   "language": "python",
   "name": "python3"
  },
  "language_info": {
   "codemirror_mode": {
    "name": "ipython",
    "version": 3
   },
   "file_extension": ".py",
   "mimetype": "text/x-python",
   "name": "python",
   "nbconvert_exporter": "python",
   "pygments_lexer": "ipython3",
   "version": "3.10.12"
  },
  "papermill": {
   "default_parameters": {},
   "duration": 59.752234,
   "end_time": "2024-01-19T12:17:42.836879",
   "environment_variables": {},
   "exception": null,
   "input_path": "__notebook__.ipynb",
   "output_path": "__notebook__.ipynb",
   "parameters": {},
   "start_time": "2024-01-19T12:16:43.084645",
   "version": "2.4.0"
  }
 },
 "nbformat": 4,
 "nbformat_minor": 5
}

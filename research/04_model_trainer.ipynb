{
 "cells": [
  {
   "cell_type": "code",
   "execution_count": 1,
   "metadata": {},
   "outputs": [],
   "source": [
    "import os"
   ]
  },
  {
   "cell_type": "code",
   "execution_count": 2,
   "metadata": {},
   "outputs": [
    {
     "data": {
      "text/plain": [
       "'c:\\\\DataScience\\\\Projects\\\\folder\\\\AIDRP-AI_Driven_Diabetes_Readmission_Prevention\\\\research'"
      ]
     },
     "execution_count": 2,
     "metadata": {},
     "output_type": "execute_result"
    }
   ],
   "source": [
    "%pwd"
   ]
  },
  {
   "cell_type": "code",
   "execution_count": 3,
   "metadata": {},
   "outputs": [],
   "source": [
    "os.chdir(\"../\")"
   ]
  },
  {
   "cell_type": "code",
   "execution_count": 5,
   "metadata": {},
   "outputs": [],
   "source": [
    "from dataclasses import dataclass\n",
    "from pathlib import Path\n",
    "\n",
    "@dataclass(frozen=True)\n",
    "class ModelTrainerConfig:\n",
    "    root_dir: Path\n",
    "    train_data_path : Path\n",
    "    test_data_path : Path\n",
    "    model_name: str\n",
    "    iterations: int\n",
    "    learning_rate: float\n",
    "    depth: int\n",
    "    l2_leaf_reg: float\n",
    "    bootstrap_type: str\n",
    "    random_strength: float\n",
    "    bagging_temperature: float\n",
    "    od_type: str\n",
    "    od_wait:int\n",
    "    target_column: str\n",
    "  \n"
   ]
  },
  {
   "cell_type": "code",
   "execution_count": 6,
   "metadata": {},
   "outputs": [],
   "source": [
    "from src.AIDRP.constants import *\n",
    "from src.AIDRP.utils.common import read_yaml,create_directories\n",
    "\n",
    "class ConfigurationManager:\n",
    "    def __init__(\n",
    "        self,\n",
    "        config_filepath = CONFIG_FILE_PATH,\n",
    "        params_filepath = PARAMS_FILE_PATH,\n",
    "        schema_filepath = SCHEMA_FILE_PATH):\n",
    "\n",
    "        self.config = read_yaml(config_filepath)\n",
    "        self.params = read_yaml(params_filepath)\n",
    "        self.schema = read_yaml(schema_filepath)\n",
    "\n",
    "        create_directories([self.config.artifacts_root])\n",
    "\n",
    "\n",
    "    \n",
    "    def get_model_trainer_config(self) -> ModelTrainerConfig:\n",
    "        config = self.config.model_trainer\n",
    "        params = self.params.CatBoostClassifier\n",
    "        schema =  self.schema.TARGET_COLUMN\n",
    "\n",
    "        create_directories([config.root_dir])\n",
    "    \n",
    "        model_trainer_config=ModelTrainerConfig(\n",
    "            root_dir=config.root_dir,\n",
    "            train_data_path=config.train_data_path,\n",
    "            test_data_path=config.test_data_path,\n",
    "            model_name=config.model_name,\n",
    "            iterations=params.iterations,\n",
    "            learning_rate=params.learning_rate,\n",
    "            depth=params.depth,\n",
    "            l2_leaf_reg=params.l2_leaf_reg,\n",
    "            bootstrap_type=params.bootstrap_type,\n",
    "            random_strength=params.random_strength,\n",
    "            bagging_temperature=params.bagging_temperature,\n",
    "            od_type=params.od_type,\n",
    "            od_wait=params.od_wait,\n",
    "            target_column = schema.name\n",
    "        )\n",
    "\n",
    "        return model_trainer_config\n",
    "  "
   ]
  },
  {
   "cell_type": "code",
   "execution_count": 9,
   "metadata": {},
   "outputs": [],
   "source": [
    "import pandas as pd\n",
    "import os\n",
    "from src.AIDRP.logging import logger\n",
    "import joblib\n",
    "import catboost\n",
    "\n",
    "class ModelTrainer:\n",
    "    def __init__(self, config: ModelTrainerConfig):\n",
    "        self.config = config\n",
    "\n",
    "\n",
    "    \n",
    "    def train(self):\n",
    "        train_data = pd.read_csv(self.config.train_data_path)\n",
    "        test_data = pd.read_csv(self.config.test_data_path)\n",
    "\n",
    "\n",
    "        train_x = train_data.drop([self.config.target_column], axis=1)\n",
    "        test_x = test_data.drop([self.config.target_column], axis=1)\n",
    "        train_y = train_data[[self.config.target_column]]\n",
    "        test_y = test_data[[self.config.target_column]]\n",
    "\n",
    "\n",
    "        params={'iterations': self.config.iterations, 'learning_rate': self.config.learning_rate,\n",
    "                 'depth': self.config.depth, 'l2_leaf_reg': self.config.l2_leaf_reg, \n",
    "                 'bootstrap_type': self.config.bootstrap_type, 'random_strength': self.config.random_strength,\n",
    "                   'bagging_temperature': self.config.bagging_temperature, 'od_type': self.config.od_type, 'od_wait': self.config.od_wait}\n",
    "\n",
    "        cb = catboost.CatBoostClassifier(**params,random_state=42,verbose=False)\n",
    "        cb.fit(train_x, train_y)\n",
    "\n",
    "        joblib.dump(cb, os.path.join(self.config.root_dir, self.config.model_name))\n",
    "\n",
    "        "
   ]
  },
  {
   "cell_type": "code",
   "execution_count": 10,
   "metadata": {},
   "outputs": [
    {
     "name": "stdout",
     "output_type": "stream",
     "text": [
      "[2024-02-12 20:58:50,987 : INFO : common : yaml file: config\\config.yaml loaded successfully]\n",
      "[2024-02-12 20:58:50,995 : INFO : common : yaml file: params.yaml loaded successfully]\n",
      "[2024-02-12 20:58:51,009 : INFO : common : yaml file: schema.yaml loaded successfully]\n",
      "[2024-02-12 20:58:51,019 : INFO : common : created directory at: artifacts]\n",
      "[2024-02-12 20:58:51,020 : INFO : common : created directory at: artifacts/model_trainer]\n"
     ]
    }
   ],
   "source": [
    "try:\n",
    "    config = ConfigurationManager()\n",
    "    model_trainer_config = config.get_model_trainer_config()\n",
    "    model_trainer_config = ModelTrainer(config=model_trainer_config)\n",
    "    model_trainer_config.train()\n",
    "except Exception as e:\n",
    "    raise e"
   ]
  },
  {
   "cell_type": "code",
   "execution_count": null,
   "metadata": {},
   "outputs": [],
   "source": []
  }
 ],
 "metadata": {
  "kernelspec": {
   "display_name": "Python 3",
   "language": "python",
   "name": "python3"
  },
  "language_info": {
   "codemirror_mode": {
    "name": "ipython",
    "version": 3
   },
   "file_extension": ".py",
   "mimetype": "text/x-python",
   "name": "python",
   "nbconvert_exporter": "python",
   "pygments_lexer": "ipython3",
   "version": "3.8.18"
  }
 },
 "nbformat": 4,
 "nbformat_minor": 2
}
